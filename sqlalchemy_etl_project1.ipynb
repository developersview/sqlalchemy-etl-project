{
 "cells": [
  {
   "cell_type": "code",
   "execution_count": 1,
   "id": "e8d714b8-133f-4ae5-9aa1-4d3a05d86dce",
   "metadata": {},
   "outputs": [
    {
     "name": "stdout",
     "output_type": "stream",
     "text": [
      "Requirement already satisfied: sqlalchemy in c:\\users\\pcslg\\anaconda3\\lib\\site-packages (2.0.30)\n",
      "Requirement already satisfied: typing-extensions>=4.6.0 in c:\\users\\pcslg\\anaconda3\\lib\\site-packages (from sqlalchemy) (4.11.0)\n",
      "Requirement already satisfied: greenlet!=0.4.17 in c:\\users\\pcslg\\anaconda3\\lib\\site-packages (from sqlalchemy) (3.0.1)\n",
      "Note: you may need to restart the kernel to use updated packages.\n"
     ]
    }
   ],
   "source": [
    "pip install sqlalchemy"
   ]
  },
  {
   "cell_type": "code",
   "execution_count": 23,
   "id": "308b2ea1-39a7-4780-992b-d2890b90ade1",
   "metadata": {},
   "outputs": [
    {
     "name": "stdout",
     "output_type": "stream",
     "text": [
      "Requirement already satisfied: pyodbc in c:\\users\\pcslg\\anaconda3\\lib\\site-packages (5.0.1)\n",
      "Note: you may need to restart the kernel to use updated packages.\n"
     ]
    }
   ],
   "source": [
    "pip install pyodbc"
   ]
  },
  {
   "cell_type": "code",
   "execution_count": 101,
   "id": "8d567dfb-cb6b-4697-9445-8b2cf7ef249f",
   "metadata": {},
   "outputs": [
    {
     "data": {
      "text/plain": [
       "'2.0.30'"
      ]
     },
     "execution_count": 101,
     "metadata": {},
     "output_type": "execute_result"
    }
   ],
   "source": [
    "import sqlalchemy\n",
    "sqlalchemy.__version__"
   ]
  },
  {
   "cell_type": "code",
   "execution_count": 151,
   "id": "03f518be-9470-443a-87bb-974c2fe5dd03",
   "metadata": {},
   "outputs": [
    {
     "name": "stdout",
     "output_type": "stream",
     "text": [
      "Engine(sqlite:///D:/_DA+DS/03_Python/sqlalchemy-etl-project/european_database.sqlite)\n",
      "<sqlalchemy.engine.base.Connection object at 0x00000285748575C0>\n"
     ]
    }
   ],
   "source": [
    "import sqlalchemy as db\n",
    "engine = db.create_engine(\"sqlite:///D:/_DA+DS/03_Python/sqlalchemy-etl-project/european_database.sqlite\")\n",
    "conn = engine.connect()\n",
    "print(engine)\n",
    "print(conn)"
   ]
  },
  {
   "cell_type": "code",
   "execution_count": 153,
   "id": "af0c8f5d-461c-411f-a97d-ea67a5089c3c",
   "metadata": {},
   "outputs": [
    {
     "data": {
      "text/plain": [
       "['Student', 'divisions', 'matchs']"
      ]
     },
     "execution_count": 153,
     "metadata": {},
     "output_type": "execute_result"
    }
   ],
   "source": [
    "inspector = sqlalchemy.inspect(engine)\n",
    "table_names = inspector.get_table_names()\n",
    "table_names"
   ]
  },
  {
   "cell_type": "code",
   "execution_count": 155,
   "id": "b680e1c3-c9c5-48c2-a8e6-96a44c589189",
   "metadata": {},
   "outputs": [],
   "source": [
    "#accessing the table\n",
    "metadata = db.MetaData() #extracting the metadata\n",
    "division= db.Table('divisions', metadata, autoload_with=engine) #Table object"
   ]
  },
  {
   "cell_type": "code",
   "execution_count": 157,
   "id": "8b705a60-4be8-4961-8d75-4519fb8fb42d",
   "metadata": {},
   "outputs": [
    {
     "name": "stdout",
     "output_type": "stream",
     "text": [
      "Table('divisions', MetaData(), Column('division', TEXT(), table=<divisions>), Column('name', TEXT(), table=<divisions>), Column('country', TEXT(), table=<divisions>), schema=None)\n"
     ]
    }
   ],
   "source": [
    "print(repr(metadata.tables['divisions']))"
   ]
  },
  {
   "cell_type": "code",
   "execution_count": 159,
   "id": "d39f60b3-3c61-435c-807e-0a0b090a9b68",
   "metadata": {},
   "outputs": [
    {
     "name": "stdout",
     "output_type": "stream",
     "text": [
      "['division', 'name', 'country']\n"
     ]
    }
   ],
   "source": [
    "print(division.columns.keys()) #print column names"
   ]
  },
  {
   "cell_type": "code",
   "execution_count": 165,
   "id": "9ba87859-7081-4b86-b26a-9073fa4e4196",
   "metadata": {},
   "outputs": [
    {
     "name": "stdout",
     "output_type": "stream",
     "text": [
      "SELECT divisions.division, divisions.name, divisions.country \n",
      "FROM divisions\n"
     ]
    }
   ],
   "source": [
    "#simple sql query\n",
    "query = division.select()\n",
    "print(query)"
   ]
  },
  {
   "cell_type": "code",
   "execution_count": 167,
   "id": "9d950d27-2112-4bfd-a1fd-85e7ac9464c1",
   "metadata": {},
   "outputs": [
    {
     "name": "stdout",
     "output_type": "stream",
     "text": [
      "[('B1', 'Division 1A', 'Belgium'), ('D1', 'Bundesliga', 'Deutschland'), ('D2', '2. Bundesliga', 'Deutschland'), ('E0', 'Premier League', 'England'), ('E1', 'EFL Championship', 'England'), ('E2', 'EFL League One', 'England'), ('E3', 'EFL League Two', 'England'), ('EC', 'National League', 'England'), ('F1', 'Ligue 1', 'France'), ('F2', 'Ligue 2', 'France'), ('G1', 'Superleague', 'Greece'), ('I1', 'Seria A', 'Italy'), ('I2', 'Seria B', 'Italy'), ('N1', 'Eredivisie', 'Netherlands'), ('P1', 'Liga NOS', 'Portugal'), ('SC0', 'Scottish Premiership', 'Scotland'), ('SC1', 'Scottish Championship', 'Scotland'), ('SC2', 'Scottish League One', 'Scotland'), ('SP1', 'LaLiga', 'Spain'), ('SP2', 'LaLiga 2', 'Spain'), ('T1', 'Süper Lig', 'Turkey')]\n"
     ]
    }
   ],
   "source": [
    "exe = conn.execute(query)\n",
    "result = exe.fetchall()\n",
    "print(result)"
   ]
  },
  {
   "cell_type": "code",
   "execution_count": 169,
   "id": "30036111-63e8-4e1c-b884-26ea2862b066",
   "metadata": {},
   "outputs": [],
   "source": [
    "#creating a new table\n",
    "Student = db.Table('Student', metadata,\n",
    "                   db.Column('Id', db.Integer(), primary_key=True),\n",
    "                   db.Column('Name', db.String(255), nullable=False),\n",
    "                   db.Column('Major', db.String(255), default=\"Math\"),\n",
    "                   db.Column('Pass', db.Boolean(), default=True),\n",
    "                   extend_existing=True\n",
    "                  )\n",
    "metadata.create_all(engine)                   "
   ]
  },
  {
   "cell_type": "code",
   "execution_count": 171,
   "id": "5246576f-e0b7-41f9-b1bf-c9b016c1adea",
   "metadata": {},
   "outputs": [
    {
     "name": "stdout",
     "output_type": "stream",
     "text": [
      "INSERT INTO \"Student\" (\"Id\", \"Name\", \"Major\", \"Pass\") VALUES (:Id, :Name, :Major, :Pass)\n"
     ]
    }
   ],
   "source": [
    "#insert a new row\n",
    "query = db.insert(Student).values(Id=1, Name='Matthew', Major=\"English\", Pass=True)\n",
    "print(query)"
   ]
  },
  {
   "cell_type": "code",
   "execution_count": 173,
   "id": "d69e6000-b809-4a46-af3c-4e2d7590da5a",
   "metadata": {},
   "outputs": [
    {
     "ename": "OperationalError",
     "evalue": "(sqlite3.OperationalError) database is locked\n[SQL: INSERT INTO \"Student\" (\"Id\", \"Name\", \"Major\", \"Pass\") VALUES (?, ?, ?, ?)]\n[parameters: (1, 'Matthew', 'English', 1)]\n(Background on this error at: https://sqlalche.me/e/20/e3q8)",
     "output_type": "error",
     "traceback": [
      "\u001b[1;31m---------------------------------------------------------------------------\u001b[0m",
      "\u001b[1;31mOperationalError\u001b[0m                          Traceback (most recent call last)",
      "File \u001b[1;32m~\\anaconda3\\Lib\\site-packages\\sqlalchemy\\engine\\base.py:1967\u001b[0m, in \u001b[0;36mConnection._exec_single_context\u001b[1;34m(self, dialect, context, statement, parameters)\u001b[0m\n\u001b[0;32m   1966\u001b[0m     \u001b[38;5;28;01mif\u001b[39;00m \u001b[38;5;129;01mnot\u001b[39;00m evt_handled:\n\u001b[1;32m-> 1967\u001b[0m         \u001b[38;5;28mself\u001b[39m\u001b[38;5;241m.\u001b[39mdialect\u001b[38;5;241m.\u001b[39mdo_execute(\n\u001b[0;32m   1968\u001b[0m             cursor, str_statement, effective_parameters, context\n\u001b[0;32m   1969\u001b[0m         )\n\u001b[0;32m   1971\u001b[0m \u001b[38;5;28;01mif\u001b[39;00m \u001b[38;5;28mself\u001b[39m\u001b[38;5;241m.\u001b[39m_has_events \u001b[38;5;129;01mor\u001b[39;00m \u001b[38;5;28mself\u001b[39m\u001b[38;5;241m.\u001b[39mengine\u001b[38;5;241m.\u001b[39m_has_events:\n",
      "File \u001b[1;32m~\\anaconda3\\Lib\\site-packages\\sqlalchemy\\engine\\default.py:924\u001b[0m, in \u001b[0;36mDefaultDialect.do_execute\u001b[1;34m(self, cursor, statement, parameters, context)\u001b[0m\n\u001b[0;32m    923\u001b[0m \u001b[38;5;28;01mdef\u001b[39;00m \u001b[38;5;21mdo_execute\u001b[39m(\u001b[38;5;28mself\u001b[39m, cursor, statement, parameters, context\u001b[38;5;241m=\u001b[39m\u001b[38;5;28;01mNone\u001b[39;00m):\n\u001b[1;32m--> 924\u001b[0m     cursor\u001b[38;5;241m.\u001b[39mexecute(statement, parameters)\n",
      "\u001b[1;31mOperationalError\u001b[0m: database is locked",
      "\nThe above exception was the direct cause of the following exception:\n",
      "\u001b[1;31mOperationalError\u001b[0m                          Traceback (most recent call last)",
      "Cell \u001b[1;32mIn[173], line 1\u001b[0m\n\u001b[1;32m----> 1\u001b[0m conn\u001b[38;5;241m.\u001b[39mexecute(query)\n",
      "File \u001b[1;32m~\\anaconda3\\Lib\\site-packages\\sqlalchemy\\engine\\base.py:1418\u001b[0m, in \u001b[0;36mConnection.execute\u001b[1;34m(self, statement, parameters, execution_options)\u001b[0m\n\u001b[0;32m   1416\u001b[0m     \u001b[38;5;28;01mraise\u001b[39;00m exc\u001b[38;5;241m.\u001b[39mObjectNotExecutableError(statement) \u001b[38;5;28;01mfrom\u001b[39;00m \u001b[38;5;21;01merr\u001b[39;00m\n\u001b[0;32m   1417\u001b[0m \u001b[38;5;28;01melse\u001b[39;00m:\n\u001b[1;32m-> 1418\u001b[0m     \u001b[38;5;28;01mreturn\u001b[39;00m meth(\n\u001b[0;32m   1419\u001b[0m         \u001b[38;5;28mself\u001b[39m,\n\u001b[0;32m   1420\u001b[0m         distilled_parameters,\n\u001b[0;32m   1421\u001b[0m         execution_options \u001b[38;5;129;01mor\u001b[39;00m NO_OPTIONS,\n\u001b[0;32m   1422\u001b[0m     )\n",
      "File \u001b[1;32m~\\anaconda3\\Lib\\site-packages\\sqlalchemy\\sql\\elements.py:515\u001b[0m, in \u001b[0;36mClauseElement._execute_on_connection\u001b[1;34m(self, connection, distilled_params, execution_options)\u001b[0m\n\u001b[0;32m    513\u001b[0m     \u001b[38;5;28;01mif\u001b[39;00m TYPE_CHECKING:\n\u001b[0;32m    514\u001b[0m         \u001b[38;5;28;01massert\u001b[39;00m \u001b[38;5;28misinstance\u001b[39m(\u001b[38;5;28mself\u001b[39m, Executable)\n\u001b[1;32m--> 515\u001b[0m     \u001b[38;5;28;01mreturn\u001b[39;00m connection\u001b[38;5;241m.\u001b[39m_execute_clauseelement(\n\u001b[0;32m    516\u001b[0m         \u001b[38;5;28mself\u001b[39m, distilled_params, execution_options\n\u001b[0;32m    517\u001b[0m     )\n\u001b[0;32m    518\u001b[0m \u001b[38;5;28;01melse\u001b[39;00m:\n\u001b[0;32m    519\u001b[0m     \u001b[38;5;28;01mraise\u001b[39;00m exc\u001b[38;5;241m.\u001b[39mObjectNotExecutableError(\u001b[38;5;28mself\u001b[39m)\n",
      "File \u001b[1;32m~\\anaconda3\\Lib\\site-packages\\sqlalchemy\\engine\\base.py:1640\u001b[0m, in \u001b[0;36mConnection._execute_clauseelement\u001b[1;34m(self, elem, distilled_parameters, execution_options)\u001b[0m\n\u001b[0;32m   1628\u001b[0m compiled_cache: Optional[CompiledCacheType] \u001b[38;5;241m=\u001b[39m execution_options\u001b[38;5;241m.\u001b[39mget(\n\u001b[0;32m   1629\u001b[0m     \u001b[38;5;124m\"\u001b[39m\u001b[38;5;124mcompiled_cache\u001b[39m\u001b[38;5;124m\"\u001b[39m, \u001b[38;5;28mself\u001b[39m\u001b[38;5;241m.\u001b[39mengine\u001b[38;5;241m.\u001b[39m_compiled_cache\n\u001b[0;32m   1630\u001b[0m )\n\u001b[0;32m   1632\u001b[0m compiled_sql, extracted_params, cache_hit \u001b[38;5;241m=\u001b[39m elem\u001b[38;5;241m.\u001b[39m_compile_w_cache(\n\u001b[0;32m   1633\u001b[0m     dialect\u001b[38;5;241m=\u001b[39mdialect,\n\u001b[0;32m   1634\u001b[0m     compiled_cache\u001b[38;5;241m=\u001b[39mcompiled_cache,\n\u001b[1;32m   (...)\u001b[0m\n\u001b[0;32m   1638\u001b[0m     linting\u001b[38;5;241m=\u001b[39m\u001b[38;5;28mself\u001b[39m\u001b[38;5;241m.\u001b[39mdialect\u001b[38;5;241m.\u001b[39mcompiler_linting \u001b[38;5;241m|\u001b[39m compiler\u001b[38;5;241m.\u001b[39mWARN_LINTING,\n\u001b[0;32m   1639\u001b[0m )\n\u001b[1;32m-> 1640\u001b[0m ret \u001b[38;5;241m=\u001b[39m \u001b[38;5;28mself\u001b[39m\u001b[38;5;241m.\u001b[39m_execute_context(\n\u001b[0;32m   1641\u001b[0m     dialect,\n\u001b[0;32m   1642\u001b[0m     dialect\u001b[38;5;241m.\u001b[39mexecution_ctx_cls\u001b[38;5;241m.\u001b[39m_init_compiled,\n\u001b[0;32m   1643\u001b[0m     compiled_sql,\n\u001b[0;32m   1644\u001b[0m     distilled_parameters,\n\u001b[0;32m   1645\u001b[0m     execution_options,\n\u001b[0;32m   1646\u001b[0m     compiled_sql,\n\u001b[0;32m   1647\u001b[0m     distilled_parameters,\n\u001b[0;32m   1648\u001b[0m     elem,\n\u001b[0;32m   1649\u001b[0m     extracted_params,\n\u001b[0;32m   1650\u001b[0m     cache_hit\u001b[38;5;241m=\u001b[39mcache_hit,\n\u001b[0;32m   1651\u001b[0m )\n\u001b[0;32m   1652\u001b[0m \u001b[38;5;28;01mif\u001b[39;00m has_events:\n\u001b[0;32m   1653\u001b[0m     \u001b[38;5;28mself\u001b[39m\u001b[38;5;241m.\u001b[39mdispatch\u001b[38;5;241m.\u001b[39mafter_execute(\n\u001b[0;32m   1654\u001b[0m         \u001b[38;5;28mself\u001b[39m,\n\u001b[0;32m   1655\u001b[0m         elem,\n\u001b[1;32m   (...)\u001b[0m\n\u001b[0;32m   1659\u001b[0m         ret,\n\u001b[0;32m   1660\u001b[0m     )\n",
      "File \u001b[1;32m~\\anaconda3\\Lib\\site-packages\\sqlalchemy\\engine\\base.py:1846\u001b[0m, in \u001b[0;36mConnection._execute_context\u001b[1;34m(self, dialect, constructor, statement, parameters, execution_options, *args, **kw)\u001b[0m\n\u001b[0;32m   1844\u001b[0m     \u001b[38;5;28;01mreturn\u001b[39;00m \u001b[38;5;28mself\u001b[39m\u001b[38;5;241m.\u001b[39m_exec_insertmany_context(dialect, context)\n\u001b[0;32m   1845\u001b[0m \u001b[38;5;28;01melse\u001b[39;00m:\n\u001b[1;32m-> 1846\u001b[0m     \u001b[38;5;28;01mreturn\u001b[39;00m \u001b[38;5;28mself\u001b[39m\u001b[38;5;241m.\u001b[39m_exec_single_context(\n\u001b[0;32m   1847\u001b[0m         dialect, context, statement, parameters\n\u001b[0;32m   1848\u001b[0m     )\n",
      "File \u001b[1;32m~\\anaconda3\\Lib\\site-packages\\sqlalchemy\\engine\\base.py:1986\u001b[0m, in \u001b[0;36mConnection._exec_single_context\u001b[1;34m(self, dialect, context, statement, parameters)\u001b[0m\n\u001b[0;32m   1983\u001b[0m     result \u001b[38;5;241m=\u001b[39m context\u001b[38;5;241m.\u001b[39m_setup_result_proxy()\n\u001b[0;32m   1985\u001b[0m \u001b[38;5;28;01mexcept\u001b[39;00m \u001b[38;5;167;01mBaseException\u001b[39;00m \u001b[38;5;28;01mas\u001b[39;00m e:\n\u001b[1;32m-> 1986\u001b[0m     \u001b[38;5;28mself\u001b[39m\u001b[38;5;241m.\u001b[39m_handle_dbapi_exception(\n\u001b[0;32m   1987\u001b[0m         e, str_statement, effective_parameters, cursor, context\n\u001b[0;32m   1988\u001b[0m     )\n\u001b[0;32m   1990\u001b[0m \u001b[38;5;28;01mreturn\u001b[39;00m result\n",
      "File \u001b[1;32m~\\anaconda3\\Lib\\site-packages\\sqlalchemy\\engine\\base.py:2353\u001b[0m, in \u001b[0;36mConnection._handle_dbapi_exception\u001b[1;34m(self, e, statement, parameters, cursor, context, is_sub_exec)\u001b[0m\n\u001b[0;32m   2351\u001b[0m \u001b[38;5;28;01melif\u001b[39;00m should_wrap:\n\u001b[0;32m   2352\u001b[0m     \u001b[38;5;28;01massert\u001b[39;00m sqlalchemy_exception \u001b[38;5;129;01mis\u001b[39;00m \u001b[38;5;129;01mnot\u001b[39;00m \u001b[38;5;28;01mNone\u001b[39;00m\n\u001b[1;32m-> 2353\u001b[0m     \u001b[38;5;28;01mraise\u001b[39;00m sqlalchemy_exception\u001b[38;5;241m.\u001b[39mwith_traceback(exc_info[\u001b[38;5;241m2\u001b[39m]) \u001b[38;5;28;01mfrom\u001b[39;00m \u001b[38;5;21;01me\u001b[39;00m\n\u001b[0;32m   2354\u001b[0m \u001b[38;5;28;01melse\u001b[39;00m:\n\u001b[0;32m   2355\u001b[0m     \u001b[38;5;28;01massert\u001b[39;00m exc_info[\u001b[38;5;241m1\u001b[39m] \u001b[38;5;129;01mis\u001b[39;00m \u001b[38;5;129;01mnot\u001b[39;00m \u001b[38;5;28;01mNone\u001b[39;00m\n",
      "File \u001b[1;32m~\\anaconda3\\Lib\\site-packages\\sqlalchemy\\engine\\base.py:1967\u001b[0m, in \u001b[0;36mConnection._exec_single_context\u001b[1;34m(self, dialect, context, statement, parameters)\u001b[0m\n\u001b[0;32m   1965\u001b[0m                 \u001b[38;5;28;01mbreak\u001b[39;00m\n\u001b[0;32m   1966\u001b[0m     \u001b[38;5;28;01mif\u001b[39;00m \u001b[38;5;129;01mnot\u001b[39;00m evt_handled:\n\u001b[1;32m-> 1967\u001b[0m         \u001b[38;5;28mself\u001b[39m\u001b[38;5;241m.\u001b[39mdialect\u001b[38;5;241m.\u001b[39mdo_execute(\n\u001b[0;32m   1968\u001b[0m             cursor, str_statement, effective_parameters, context\n\u001b[0;32m   1969\u001b[0m         )\n\u001b[0;32m   1971\u001b[0m \u001b[38;5;28;01mif\u001b[39;00m \u001b[38;5;28mself\u001b[39m\u001b[38;5;241m.\u001b[39m_has_events \u001b[38;5;129;01mor\u001b[39;00m \u001b[38;5;28mself\u001b[39m\u001b[38;5;241m.\u001b[39mengine\u001b[38;5;241m.\u001b[39m_has_events:\n\u001b[0;32m   1972\u001b[0m     \u001b[38;5;28mself\u001b[39m\u001b[38;5;241m.\u001b[39mdispatch\u001b[38;5;241m.\u001b[39mafter_cursor_execute(\n\u001b[0;32m   1973\u001b[0m         \u001b[38;5;28mself\u001b[39m,\n\u001b[0;32m   1974\u001b[0m         cursor,\n\u001b[1;32m   (...)\u001b[0m\n\u001b[0;32m   1978\u001b[0m         context\u001b[38;5;241m.\u001b[39mexecutemany,\n\u001b[0;32m   1979\u001b[0m     )\n",
      "File \u001b[1;32m~\\anaconda3\\Lib\\site-packages\\sqlalchemy\\engine\\default.py:924\u001b[0m, in \u001b[0;36mDefaultDialect.do_execute\u001b[1;34m(self, cursor, statement, parameters, context)\u001b[0m\n\u001b[0;32m    923\u001b[0m \u001b[38;5;28;01mdef\u001b[39;00m \u001b[38;5;21mdo_execute\u001b[39m(\u001b[38;5;28mself\u001b[39m, cursor, statement, parameters, context\u001b[38;5;241m=\u001b[39m\u001b[38;5;28;01mNone\u001b[39;00m):\n\u001b[1;32m--> 924\u001b[0m     cursor\u001b[38;5;241m.\u001b[39mexecute(statement, parameters)\n",
      "\u001b[1;31mOperationalError\u001b[0m: (sqlite3.OperationalError) database is locked\n[SQL: INSERT INTO \"Student\" (\"Id\", \"Name\", \"Major\", \"Pass\") VALUES (?, ?, ?, ?)]\n[parameters: (1, 'Matthew', 'English', 1)]\n(Background on this error at: https://sqlalche.me/e/20/e3q8)"
     ]
    }
   ],
   "source": [
    "conn.execute(query)"
   ]
  },
  {
   "cell_type": "code",
   "execution_count": null,
   "id": "3ac63cfe-1816-4850-9cc2-146efb60256b",
   "metadata": {},
   "outputs": [],
   "source": [
    "print(conn.execute(Student.select()).fetchall())"
   ]
  },
  {
   "cell_type": "code",
   "execution_count": null,
   "id": "f759f65d-85d0-4156-864f-b5aedc2bfeda",
   "metadata": {},
   "outputs": [],
   "source": [
    "values_list = [{'Id':'7', 'Name':'Nisha', 'Major':\"Science\", 'Pass':False},\n",
    "              {'Id':'8', 'Name':'Natasha', 'Major':\"Math\", 'Pass':True},\n",
    "              {'Id':'9', 'Name':'Ben', 'Major':\"English\", 'Pass':False}]\n",
    "query = db.insert(Student)\n",
    "conn.execute(query,values_list)\n",
    "print(query)"
   ]
  },
  {
   "cell_type": "code",
   "execution_count": null,
   "id": "552be575-93cb-4212-a601-d17968bdf73a",
   "metadata": {},
   "outputs": [],
   "source": [
    "print(conn.execute(Student.select()).fetchall())"
   ]
  },
  {
   "cell_type": "code",
   "execution_count": null,
   "id": "13e280ca-f2d3-4729-9198-bc561506d6a3",
   "metadata": {},
   "outputs": [],
   "source": [
    "from sqlalchemy import text as text\n",
    "query = text(\"SELECT * FROM Student\")\n",
    "result = conn.execute(query).fetchall()\n",
    "print(result)"
   ]
  },
  {
   "cell_type": "code",
   "execution_count": 63,
   "id": "58ba9877-4c9a-4c43-b34e-038e64a22e84",
   "metadata": {},
   "outputs": [
    {
     "name": "stdout",
     "output_type": "stream",
     "text": [
      "[('Nisha', 'Science'), ('Ben', 'English'), ('Nisha', 'Science'), ('Ben', 'English')]\n"
     ]
    }
   ],
   "source": [
    "query = text(\"SELECT Name, Major FROM Student WHERE Pass != True\")\n",
    "result = conn.execute(query).fetchall()\n",
    "print(result)"
   ]
  },
  {
   "cell_type": "code",
   "execution_count": 161,
   "id": "9bc20c2c-b5bd-4c90-9f15-e0394e992c2f",
   "metadata": {},
   "outputs": [
    {
     "name": "stdout",
     "output_type": "stream",
     "text": [
      "[]\n"
     ]
    }
   ],
   "source": [
    "query = Student.select().where(Student.columns.Major == 'English')\n",
    "output = conn.execute(query)\n",
    "print(output.fetchall())"
   ]
  },
  {
   "cell_type": "code",
   "execution_count": 163,
   "id": "baa66b8c-cb74-49a0-8dcd-982d80f510d7",
   "metadata": {},
   "outputs": [
    {
     "name": "stdout",
     "output_type": "stream",
     "text": [
      "[]\n"
     ]
    }
   ],
   "source": [
    "query = Student.select().where(db.and_(Student.columns.Major == 'English', Student.columns.Pass != True))\n",
    "output = conn.execute(query).fetchall()\n",
    "print(output)"
   ]
  },
  {
   "cell_type": "code",
   "execution_count": 143,
   "id": "e91d2d63-3732-41da-8d30-f930a284d608",
   "metadata": {},
   "outputs": [],
   "source": [
    "query = Student.select().where(Student.c.Major.in_(['English','Math']))\n",
    "output = conn.execute(query)\n",
    "results = output.fetchall()"
   ]
  },
  {
   "cell_type": "code",
   "execution_count": 145,
   "id": "0547c0e7-08a8-4b8b-90eb-45557948fd48",
   "metadata": {},
   "outputs": [
    {
     "data": {
      "text/html": [
       "<div>\n",
       "<style scoped>\n",
       "    .dataframe tbody tr th:only-of-type {\n",
       "        vertical-align: middle;\n",
       "    }\n",
       "\n",
       "    .dataframe tbody tr th {\n",
       "        vertical-align: top;\n",
       "    }\n",
       "\n",
       "    .dataframe thead th {\n",
       "        text-align: right;\n",
       "    }\n",
       "</style>\n",
       "<table border=\"1\" class=\"dataframe\">\n",
       "  <thead>\n",
       "    <tr style=\"text-align: right;\">\n",
       "      <th></th>\n",
       "      <th>Id</th>\n",
       "      <th>Name</th>\n",
       "      <th>Major</th>\n",
       "      <th>Pass</th>\n",
       "    </tr>\n",
       "  </thead>\n",
       "  <tbody>\n",
       "  </tbody>\n",
       "</table>\n",
       "</div>"
      ],
      "text/plain": [
       "Empty DataFrame\n",
       "Columns: [Id, Name, Major, Pass]\n",
       "Index: []"
      ]
     },
     "execution_count": 145,
     "metadata": {},
     "output_type": "execute_result"
    }
   ],
   "source": [
    "import pandas as pd\n",
    "rows = results\n",
    "columns = output.keys()\n",
    "data = pd.DataFrame(rows, columns=columns)\n",
    "data"
   ]
  },
  {
   "cell_type": "code",
   "execution_count": 147,
   "id": "4aa38cf4-b41e-4417-bb1e-7bb9df84a73a",
   "metadata": {},
   "outputs": [
    {
     "ename": "ValueError",
     "evalue": "Length mismatch: Expected axis has 0 elements, new values have 4 elements",
     "output_type": "error",
     "traceback": [
      "\u001b[1;31m---------------------------------------------------------------------------\u001b[0m",
      "\u001b[1;31mValueError\u001b[0m                                Traceback (most recent call last)",
      "Cell \u001b[1;32mIn[147], line 2\u001b[0m\n\u001b[0;32m      1\u001b[0m data \u001b[38;5;241m=\u001b[39m pd\u001b[38;5;241m.\u001b[39mDataFrame(results)\n\u001b[1;32m----> 2\u001b[0m data\u001b[38;5;241m.\u001b[39mcolumns \u001b[38;5;241m=\u001b[39m output\u001b[38;5;241m.\u001b[39mkeys()\n\u001b[0;32m      3\u001b[0m data\n",
      "File \u001b[1;32m~\\anaconda3\\Lib\\site-packages\\pandas\\core\\generic.py:6313\u001b[0m, in \u001b[0;36mNDFrame.__setattr__\u001b[1;34m(self, name, value)\u001b[0m\n\u001b[0;32m   6311\u001b[0m \u001b[38;5;28;01mtry\u001b[39;00m:\n\u001b[0;32m   6312\u001b[0m     \u001b[38;5;28mobject\u001b[39m\u001b[38;5;241m.\u001b[39m\u001b[38;5;21m__getattribute__\u001b[39m(\u001b[38;5;28mself\u001b[39m, name)\n\u001b[1;32m-> 6313\u001b[0m     \u001b[38;5;28;01mreturn\u001b[39;00m \u001b[38;5;28mobject\u001b[39m\u001b[38;5;241m.\u001b[39m\u001b[38;5;21m__setattr__\u001b[39m(\u001b[38;5;28mself\u001b[39m, name, value)\n\u001b[0;32m   6314\u001b[0m \u001b[38;5;28;01mexcept\u001b[39;00m \u001b[38;5;167;01mAttributeError\u001b[39;00m:\n\u001b[0;32m   6315\u001b[0m     \u001b[38;5;28;01mpass\u001b[39;00m\n",
      "File \u001b[1;32mproperties.pyx:69\u001b[0m, in \u001b[0;36mpandas._libs.properties.AxisProperty.__set__\u001b[1;34m()\u001b[0m\n",
      "File \u001b[1;32m~\\anaconda3\\Lib\\site-packages\\pandas\\core\\generic.py:814\u001b[0m, in \u001b[0;36mNDFrame._set_axis\u001b[1;34m(self, axis, labels)\u001b[0m\n\u001b[0;32m    809\u001b[0m \u001b[38;5;250m\u001b[39m\u001b[38;5;124;03m\"\"\"\u001b[39;00m\n\u001b[0;32m    810\u001b[0m \u001b[38;5;124;03mThis is called from the cython code when we set the `index` attribute\u001b[39;00m\n\u001b[0;32m    811\u001b[0m \u001b[38;5;124;03mdirectly, e.g. `series.index = [1, 2, 3]`.\u001b[39;00m\n\u001b[0;32m    812\u001b[0m \u001b[38;5;124;03m\"\"\"\u001b[39;00m\n\u001b[0;32m    813\u001b[0m labels \u001b[38;5;241m=\u001b[39m ensure_index(labels)\n\u001b[1;32m--> 814\u001b[0m \u001b[38;5;28mself\u001b[39m\u001b[38;5;241m.\u001b[39m_mgr\u001b[38;5;241m.\u001b[39mset_axis(axis, labels)\n\u001b[0;32m    815\u001b[0m \u001b[38;5;28mself\u001b[39m\u001b[38;5;241m.\u001b[39m_clear_item_cache()\n",
      "File \u001b[1;32m~\\anaconda3\\Lib\\site-packages\\pandas\\core\\internals\\managers.py:238\u001b[0m, in \u001b[0;36mBaseBlockManager.set_axis\u001b[1;34m(self, axis, new_labels)\u001b[0m\n\u001b[0;32m    236\u001b[0m \u001b[38;5;28;01mdef\u001b[39;00m \u001b[38;5;21mset_axis\u001b[39m(\u001b[38;5;28mself\u001b[39m, axis: AxisInt, new_labels: Index) \u001b[38;5;241m-\u001b[39m\u001b[38;5;241m>\u001b[39m \u001b[38;5;28;01mNone\u001b[39;00m:\n\u001b[0;32m    237\u001b[0m     \u001b[38;5;66;03m# Caller is responsible for ensuring we have an Index object.\u001b[39;00m\n\u001b[1;32m--> 238\u001b[0m     \u001b[38;5;28mself\u001b[39m\u001b[38;5;241m.\u001b[39m_validate_set_axis(axis, new_labels)\n\u001b[0;32m    239\u001b[0m     \u001b[38;5;28mself\u001b[39m\u001b[38;5;241m.\u001b[39maxes[axis] \u001b[38;5;241m=\u001b[39m new_labels\n",
      "File \u001b[1;32m~\\anaconda3\\Lib\\site-packages\\pandas\\core\\internals\\base.py:98\u001b[0m, in \u001b[0;36mDataManager._validate_set_axis\u001b[1;34m(self, axis, new_labels)\u001b[0m\n\u001b[0;32m     95\u001b[0m     \u001b[38;5;28;01mpass\u001b[39;00m\n\u001b[0;32m     97\u001b[0m \u001b[38;5;28;01melif\u001b[39;00m new_len \u001b[38;5;241m!=\u001b[39m old_len:\n\u001b[1;32m---> 98\u001b[0m     \u001b[38;5;28;01mraise\u001b[39;00m \u001b[38;5;167;01mValueError\u001b[39;00m(\n\u001b[0;32m     99\u001b[0m         \u001b[38;5;124mf\u001b[39m\u001b[38;5;124m\"\u001b[39m\u001b[38;5;124mLength mismatch: Expected axis has \u001b[39m\u001b[38;5;132;01m{\u001b[39;00mold_len\u001b[38;5;132;01m}\u001b[39;00m\u001b[38;5;124m elements, new \u001b[39m\u001b[38;5;124m\"\u001b[39m\n\u001b[0;32m    100\u001b[0m         \u001b[38;5;124mf\u001b[39m\u001b[38;5;124m\"\u001b[39m\u001b[38;5;124mvalues have \u001b[39m\u001b[38;5;132;01m{\u001b[39;00mnew_len\u001b[38;5;132;01m}\u001b[39;00m\u001b[38;5;124m elements\u001b[39m\u001b[38;5;124m\"\u001b[39m\n\u001b[0;32m    101\u001b[0m     )\n",
      "\u001b[1;31mValueError\u001b[0m: Length mismatch: Expected axis has 0 elements, new values have 4 elements"
     ]
    }
   ],
   "source": [
    "data = pd.DataFrame(results)\n",
    "data.columns = output.keys()\n",
    "data"
   ]
  },
  {
   "cell_type": "code",
   "execution_count": 179,
   "id": "a5d1be21-b51c-4217-858b-bbef3fbab9d0",
   "metadata": {},
   "outputs": [
    {
     "name": "stdout",
     "output_type": "stream",
     "text": [
      "<sqlalchemy.engine.cursor.CursorResult object at 0x00000285747A1A90>\n",
      "<sqlalchemy.engine.base.Connection object at 0x00000285748575C0>\n"
     ]
    }
   ],
   "source": [
    "exe.close()\n",
    "print(exe)\n",
    "print(conn)"
   ]
  },
  {
   "cell_type": "code",
   "execution_count": 181,
   "id": "b3380bf3-5804-49c3-9f06-3bf6ddc2c3bf",
   "metadata": {},
   "outputs": [],
   "source": [
    "engine = db.create_engine(\"sqlite:///D:/_DA+DS/03_Python/sqlalchemy-etl-project/european_database.sqlite\")\n",
    "conn = engine.connect()\n",
    "metadata = db.MetaData()"
   ]
  },
  {
   "cell_type": "code",
   "execution_count": 183,
   "id": "c9500723-ccf6-4d90-8290-b46e73477f60",
   "metadata": {},
   "outputs": [
    {
     "data": {
      "text/plain": [
       "['Student', 'divisions', 'matchs']"
      ]
     },
     "execution_count": 183,
     "metadata": {},
     "output_type": "execute_result"
    }
   ],
   "source": [
    "inspector = sqlalchemy.inspect(engine)\n",
    "table_names = inspector.get_table_names()\n",
    "table_names"
   ]
  },
  {
   "cell_type": "code",
   "execution_count": 185,
   "id": "15d344d0-73a0-45cb-837a-522460cdb139",
   "metadata": {},
   "outputs": [
    {
     "name": "stdout",
     "output_type": "stream",
     "text": [
      "['division', 'name', 'country']\n",
      "['Div', 'Date', 'HomeTeam', 'AwayTeam', 'FTHG', 'FTAG', 'FTR', 'season']\n"
     ]
    }
   ],
   "source": [
    "division = db.Table('divisions', metadata, autoload_with=engine)\n",
    "match = db.Table('matchs', metadata, autoload_with=engine)\n",
    "print(division.columns.keys())\n",
    "print(match.columns.keys())"
   ]
  },
  {
   "cell_type": "code",
   "execution_count": 189,
   "id": "ab44cda3-77a4-4f48-b678-9fedb6d6e39b",
   "metadata": {},
   "outputs": [],
   "source": [
    "from sqlalchemy import select, and_\n",
    "\n",
    "# Use select without the list brackets, and use `select_from` for explicit joins\n",
    "query = (\n",
    "    select(division, match)  # Select both tables\n",
    "    .select_from(division.join(match, division.c.division == match.c.Div))  # Use `c` to refer to columns\n",
    "    .where(and_(division.c.division == \"E1\", match.c.season == 2009))  # Use `and_` for multiple conditions\n",
    "    .order_by(match.columns.HomeTeam)\n",
    ")\n"
   ]
  },
  {
   "cell_type": "code",
   "execution_count": 195,
   "id": "27f4d599-6cc0-4b7c-bef8-bdca9fbcb8d5",
   "metadata": {},
   "outputs": [
    {
     "name": "stdout",
     "output_type": "stream",
     "text": [
      "[('E1', 'EFL Championship', 'England', 'E1', datetime.date(2008, 8, 16), 'Barnsley', 'Coventry', 1.0, 2.0, 'A', 2009), ('E1', 'EFL Championship', 'England', 'E1', datetime.date(2008, 8, 30), 'Barnsley', 'Derby', 2.0, 0.0, 'H', 2009), ('E1', 'EFL Championship', 'England', 'E1', datetime.date(2008, 9, 16), 'Barnsley', 'Cardiff', 0.0, 1.0, 'A', 2009), ('E1', 'EFL Championship', 'England', 'E1', datetime.date(2008, 9, 27), 'Barnsley', 'Norwich', 0.0, 0.0, 'D', 2009), ('E1', 'EFL Championship', 'England', 'E1', datetime.date(2008, 10, 4), 'Barnsley', 'Doncaster', 4.0, 1.0, 'H', 2009), ('E1', 'EFL Championship', 'England', 'E1', datetime.date(2008, 10, 21), 'Barnsley', 'Sheffield Weds', 2.0, 1.0, 'H', 2009), ('E1', 'EFL Championship', 'England', 'E1', datetime.date(2008, 10, 25), 'Barnsley', 'Bristol City', 0.0, 0.0, 'D', 2009), ('E1', 'EFL Championship', 'England', 'E1', datetime.date(2008, 11, 8), 'Barnsley', 'Sheffield United', 1.0, 2.0, 'A', 2009), ('E1', 'EFL Championship', 'England', 'E1', datetime.date(2008, 11, 15), 'Barnsley', 'Watford', 2.0, 1.0, 'H', 2009), ('E1', 'EFL Championship', 'England', 'E1', datetime.date(2008, 11, 24), 'Barnsley', 'Burnley', 3.0, 2.0, 'H', 2009), ('E1', 'EFL Championship', 'England', 'E1', datetime.date(2008, 12, 6), 'Barnsley', 'Reading', 0.0, 1.0, 'A', 2009), ('E1', 'EFL Championship', 'England', 'E1', datetime.date(2008, 12, 20), 'Barnsley', 'Plymouth', 2.0, 0.0, 'H', 2009), ('E1', 'EFL Championship', 'England', 'E1', datetime.date(2008, 12, 28), 'Barnsley', 'Preston', 1.0, 1.0, 'D', 2009), ('E1', 'EFL Championship', 'England', 'E1', datetime.date(2009, 1, 10), 'Barnsley', 'Southampton', 0.0, 1.0, 'A', 2009), ('E1', 'EFL Championship', 'England', 'E1', datetime.date(2009, 1, 27), 'Barnsley', 'Ipswich', 1.0, 2.0, 'A', 2009), ('E1', 'EFL Championship', 'England', 'E1', datetime.date(2009, 2, 21), 'Barnsley', 'Charlton', 0.0, 0.0, 'D', 2009), ('E1', 'EFL Championship', 'England', 'E1', datetime.date(2009, 2, 28), 'Barnsley', 'QPR', 2.0, 1.0, 'H', 2009), ('E1', 'EFL Championship', 'England', 'E1', datetime.date(2009, 3, 10), 'Barnsley', 'Birmingham', 1.0, 1.0, 'D', 2009), ('E1', 'EFL Championship', 'England', 'E1', datetime.date(2009, 3, 14), 'Barnsley', 'Blackpool', 0.0, 1.0, 'A', 2009), ('E1', 'EFL Championship', 'England', 'E1', datetime.date(2009, 3, 17), 'Barnsley', 'Crystal Palace', 3.0, 1.0, 'H', 2009), ('E1', 'EFL Championship', 'England', 'E1', datetime.date(2009, 4, 4), 'Barnsley', \"Nott'm Forest\", 1.0, 1.0, 'D', 2009), ('E1', 'EFL Championship', 'England', 'E1', datetime.date(2009, 4, 13), 'Barnsley', 'Swansea', 1.0, 3.0, 'A', 2009), ('E1', 'EFL Championship', 'England', 'E1', datetime.date(2009, 4, 25), 'Barnsley', 'Wolves', 1.0, 1.0, 'D', 2009), ('E1', 'EFL Championship', 'England', 'E1', datetime.date(2008, 8, 9), 'Birmingham', 'Sheffield United', 1.0, 0.0, 'H', 2009), ('E1', 'EFL Championship', 'England', 'E1', datetime.date(2008, 8, 23), 'Birmingham', 'Barnsley', 2.0, 0.0, 'H', 2009), ('E1', 'EFL Championship', 'England', 'E1', datetime.date(2008, 9, 13), 'Birmingham', 'Doncaster', 1.0, 0.0, 'H', 2009), ('E1', 'EFL Championship', 'England', 'E1', datetime.date(2008, 9, 20), 'Birmingham', 'Blackpool', 0.0, 1.0, 'A', 2009), ('E1', 'EFL Championship', 'England', 'E1', datetime.date(2008, 10, 4), 'Birmingham', 'QPR', 1.0, 0.0, 'H', 2009), ('E1', 'EFL Championship', 'England', 'E1', datetime.date(2008, 10, 21), 'Birmingham', 'Crystal Palace', 1.0, 0.0, 'H', 2009), ('E1', 'EFL Championship', 'England', 'E1', datetime.date(2008, 10, 25), 'Birmingham', 'Sheffield Weds', 3.0, 1.0, 'H', 2009), ('E1', 'EFL Championship', 'England', 'E1', datetime.date(2008, 11, 3), 'Birmingham', 'Coventry', 0.0, 1.0, 'A', 2009), ('E1', 'EFL Championship', 'England', 'E1', datetime.date(2008, 11, 15), 'Birmingham', 'Charlton', 3.0, 2.0, 'H', 2009), ('E1', 'EFL Championship', 'England', 'E1', datetime.date(2008, 11, 25), 'Birmingham', 'Ipswich', 2.0, 1.0, 'H', 2009), ('E1', 'EFL Championship', 'England', 'E1', datetime.date(2008, 12, 6), 'Birmingham', 'Watford', 3.0, 2.0, 'H', 2009), ('E1', 'EFL Championship', 'England', 'E1', datetime.date(2008, 12, 20), 'Birmingham', 'Reading', 1.0, 3.0, 'A', 2009), ('E1', 'EFL Championship', 'England', 'E1', datetime.date(2008, 12, 28), 'Birmingham', 'Swansea', 0.0, 0.0, 'D', 2009), ('E1', 'EFL Championship', 'England', 'E1', datetime.date(2009, 1, 17), 'Birmingham', 'Cardiff', 1.0, 1.0, 'D', 2009), ('E1', 'EFL Championship', 'England', 'E1', datetime.date(2009, 1, 27), 'Birmingham', 'Derby', 1.0, 0.0, 'H', 2009), ('E1', 'EFL Championship', 'England', 'E1', datetime.date(2009, 2, 7), 'Birmingham', 'Burnley', 1.0, 1.0, 'D', 2009), ('E1', 'EFL Championship', 'England', 'E1', datetime.date(2009, 2, 14), 'Birmingham', \"Nott'm Forest\", 2.0, 0.0, 'H', 2009), ('E1', 'EFL Championship', 'England', 'E1', datetime.date(2009, 3, 4), 'Birmingham', 'Bristol City', 1.0, 0.0, 'H', 2009), ('E1', 'EFL Championship', 'England', 'E1', datetime.date(2009, 3, 7), 'Birmingham', 'Southampton', 1.0, 0.0, 'H', 2009), ('E1', 'EFL Championship', 'England', 'E1', datetime.date(2009, 3, 21), 'Birmingham', 'Norwich', 1.0, 1.0, 'D', 2009), ('E1', 'EFL Championship', 'England', 'E1', datetime.date(2009, 4, 6), 'Birmingham', 'Wolves', 2.0, 0.0, 'H', 2009), ('E1', 'EFL Championship', 'England', 'E1', datetime.date(2009, 4, 13), 'Birmingham', 'Plymouth', 1.0, 1.0, 'D', 2009), ('E1', 'EFL Championship', 'England', 'E1', datetime.date(2009, 4, 25), 'Birmingham', 'Preston', 1.0, 2.0, 'A', 2009), ('E1', 'EFL Championship', 'England', 'E1', datetime.date(2008, 8, 9), 'Blackpool', 'Bristol City', 0.0, 1.0, 'A', 2009), ('E1', 'EFL Championship', 'England', 'E1', datetime.date(2008, 8, 23), 'Blackpool', 'Sheffield United', 1.0, 3.0, 'A', 2009), ('E1', 'EFL Championship', 'England', 'E1', datetime.date(2008, 9, 13), 'Blackpool', 'Barnsley', 1.0, 0.0, 'H', 2009), ('E1', 'EFL Championship', 'England', 'E1', datetime.date(2008, 9, 27), 'Blackpool', 'Coventry', 1.0, 1.0, 'D', 2009), ('E1', 'EFL Championship', 'England', 'E1', datetime.date(2008, 10, 4), 'Blackpool', 'Cardiff', 1.0, 1.0, 'D', 2009), ('E1', 'EFL Championship', 'England', 'E1', datetime.date(2008, 10, 21), 'Blackpool', 'Derby', 3.0, 2.0, 'H', 2009), ('E1', 'EFL Championship', 'England', 'E1', datetime.date(2008, 10, 25), 'Blackpool', 'Crystal Palace', 2.0, 2.0, 'D', 2009), ('E1', 'EFL Championship', 'England', 'E1', datetime.date(2008, 11, 8), 'Blackpool', 'Ipswich', 0.0, 1.0, 'A', 2009), ('E1', 'EFL Championship', 'England', 'E1', datetime.date(2008, 11, 16), 'Blackpool', 'Preston', 1.0, 3.0, 'A', 2009), ('E1', 'EFL Championship', 'England', 'E1', datetime.date(2008, 11, 25), 'Blackpool', 'Sheffield Weds', 0.0, 2.0, 'A', 2009), ('E1', 'EFL Championship', 'England', 'E1', datetime.date(2008, 12, 6), 'Blackpool', 'Charlton', 2.0, 0.0, 'H', 2009), ('E1', 'EFL Championship', 'England', 'E1', datetime.date(2008, 12, 20), 'Blackpool', 'Swansea', 1.0, 1.0, 'D', 2009), ('E1', 'EFL Championship', 'England', 'E1', datetime.date(2008, 12, 29), 'Blackpool', 'Wolves', 2.0, 2.0, 'D', 2009), ('E1', 'EFL Championship', 'England', 'E1', datetime.date(2009, 1, 24), 'Blackpool', 'Birmingham', 2.0, 0.0, 'H', 2009), ('E1', 'EFL Championship', 'England', 'E1', datetime.date(2009, 1, 27), 'Blackpool', 'QPR', 0.0, 3.0, 'A', 2009), ('E1', 'EFL Championship', 'England', 'E1', datetime.date(2009, 2, 7), 'Blackpool', 'Doncaster', 2.0, 3.0, 'A', 2009), ('E1', 'EFL Championship', 'England', 'E1', datetime.date(2009, 2, 21), 'Blackpool', 'Watford', 0.0, 2.0, 'A', 2009), ('E1', 'EFL Championship', 'England', 'E1', datetime.date(2009, 3, 3), 'Blackpool', 'Burnley', 0.0, 1.0, 'A', 2009), ('E1', 'EFL Championship', 'England', 'E1', datetime.date(2009, 3, 7), 'Blackpool', 'Norwich', 2.0, 0.0, 'H', 2009), ('E1', 'EFL Championship', 'England', 'E1', datetime.date(2009, 3, 21), 'Blackpool', 'Southampton', 1.0, 1.0, 'D', 2009), ('E1', 'EFL Championship', 'England', 'E1', datetime.date(2009, 4, 4), 'Blackpool', 'Plymouth', 0.0, 1.0, 'A', 2009), ('E1', 'EFL Championship', 'England', 'E1', datetime.date(2009, 4, 13), 'Blackpool', 'Reading', 2.0, 2.0, 'D', 2009), ('E1', 'EFL Championship', 'England', 'E1', datetime.date(2009, 4, 25), 'Blackpool', \"Nott'm Forest\", 1.0, 1.0, 'D', 2009), ('E1', 'EFL Championship', 'England', 'E1', datetime.date(2008, 8, 16), 'Bristol City', 'Derby', 1.0, 1.0, 'D', 2009), ('E1', 'EFL Championship', 'England', 'E1', datetime.date(2008, 8, 30), 'Bristol City', 'QPR', 1.0, 1.0, 'D', 2009), ('E1', 'EFL Championship', 'England', 'E1', datetime.date(2008, 9, 16), 'Bristol City', 'Birmingham', 1.0, 2.0, 'A', 2009), ('E1', 'EFL Championship', 'England', 'E1', datetime.date(2008, 9, 20), 'Bristol City', 'Doncaster', 4.0, 1.0, 'H', 2009), ('E1', 'EFL Championship', 'England', 'E1', datetime.date(2008, 9, 30), 'Bristol City', 'Plymouth', 2.0, 2.0, 'D', 2009), ('E1', 'EFL Championship', 'England', 'E1', datetime.date(2008, 10, 18), 'Bristol City', 'Norwich', 1.0, 0.0, 'H', 2009), ('E1', 'EFL Championship', 'England', 'E1', datetime.date(2008, 10, 28), 'Bristol City', 'Sheffield United', 0.0, 0.0, 'D', 2009), ('E1', 'EFL Championship', 'England', 'E1', datetime.date(2008, 11, 1), 'Bristol City', 'Reading', 1.0, 4.0, 'A', 2009), ('E1', 'EFL Championship', 'England', 'E1', datetime.date(2008, 11, 15), 'Bristol City', \"Nott'm Forest\", 2.0, 2.0, 'D', 2009), ('E1', 'EFL Championship', 'England', 'E1', datetime.date(2008, 11, 25), 'Bristol City', 'Watford', 1.0, 1.0, 'D', 2009), ('E1', 'EFL Championship', 'England', 'E1', datetime.date(2008, 12, 6), 'Bristol City', 'Swansea', 0.0, 0.0, 'D', 2009), ('E1', 'EFL Championship', 'England', 'E1', datetime.date(2008, 12, 20), 'Bristol City', 'Burnley', 1.0, 2.0, 'A', 2009), ('E1', 'EFL Championship', 'England', 'E1', datetime.date(2008, 12, 28), 'Bristol City', 'Crystal Palace', 1.0, 0.0, 'H', 2009), ('E1', 'EFL Championship', 'England', 'E1', datetime.date(2009, 1, 17), 'Bristol City', 'Wolves', 2.0, 2.0, 'D', 2009), ('E1', 'EFL Championship', 'England', 'E1', datetime.date(2009, 1, 31), 'Bristol City', 'Barnsley', 2.0, 0.0, 'H', 2009), ('E1', 'EFL Championship', 'England', 'E1', datetime.date(2009, 2, 3), 'Bristol City', 'Charlton', 2.0, 1.0, 'H', 2009), ('E1', 'EFL Championship', 'England', 'E1', datetime.date(2009, 2, 14), 'Bristol City', 'Southampton', 2.0, 0.0, 'H', 2009), ('E1', 'EFL Championship', 'England', 'E1', datetime.date(2009, 2, 28), 'Bristol City', 'Blackpool', 0.0, 0.0, 'D', 2009), ('E1', 'EFL Championship', 'England', 'E1', datetime.date(2009, 3, 10), 'Bristol City', 'Coventry', 2.0, 0.0, 'H', 2009), ('E1', 'EFL Championship', 'England', 'E1', datetime.date(2009, 3, 15), 'Bristol City', 'Cardiff', 1.0, 1.0, 'D', 2009), ('E1', 'EFL Championship', 'England', 'E1', datetime.date(2009, 4, 4), 'Bristol City', 'Preston', 1.0, 1.0, 'D', 2009), ('E1', 'EFL Championship', 'England', 'E1', datetime.date(2009, 4, 13), 'Bristol City', 'Ipswich', 1.0, 1.0, 'D', 2009), ('E1', 'EFL Championship', 'England', 'E1', datetime.date(2009, 4, 25), 'Bristol City', 'Sheffield Weds', 1.0, 1.0, 'D', 2009), ('E1', 'EFL Championship', 'England', 'E1', datetime.date(2008, 8, 16), 'Burnley', 'Ipswich', 0.0, 3.0, 'A', 2009), ('E1', 'EFL Championship', 'England', 'E1', datetime.date(2008, 8, 30), 'Burnley', 'Plymouth', 0.0, 0.0, 'D', 2009), ('E1', 'EFL Championship', 'England', 'E1', datetime.date(2008, 9, 16), 'Burnley', 'Blackpool', 2.0, 0.0, 'H', 2009), ('E1', 'EFL Championship', 'England', 'E1', datetime.date(2008, 9, 27), 'Burnley', 'Preston', 3.0, 1.0, 'H', 2009), ('E1', 'EFL Championship', 'England', 'E1', datetime.date(2008, 9, 30), 'Burnley', 'Watford', 3.0, 2.0, 'H', 2009), ('E1', 'EFL Championship', 'England', 'E1', datetime.date(2008, 10, 18), 'Burnley', 'Birmingham', 1.0, 1.0, 'D', 2009), ('E1', 'EFL Championship', 'England', 'E1', datetime.date(2008, 10, 28), 'Burnley', 'Reading', 1.0, 0.0, 'H', 2009), ('E1', 'EFL Championship', 'England', 'E1', datetime.date(2008, 11, 1), 'Burnley', 'Norwich', 2.0, 0.0, 'H', 2009), ('E1', 'EFL Championship', 'England', 'E1', datetime.date(2008, 11, 22), 'Burnley', 'Doncaster', 0.0, 0.0, 'D', 2009), ('E1', 'EFL Championship', 'England', 'E1', datetime.date(2008, 11, 29), 'Burnley', 'Derby', 3.0, 0.0, 'H', 2009), ('E1', 'EFL Championship', 'England', 'E1', datetime.date(2008, 12, 9), 'Burnley', 'Cardiff', 2.0, 2.0, 'D', 2009), ('E1', 'EFL Championship', 'England', 'E1', datetime.date(2008, 12, 13), 'Burnley', 'Southampton', 3.0, 2.0, 'H', 2009), ('E1', 'EFL Championship', 'England', 'E1', datetime.date(2008, 12, 26), 'Burnley', 'Barnsley', 1.0, 2.0, 'A', 2009), ('E1', 'EFL Championship', 'England', 'E1', datetime.date(2009, 1, 10), 'Burnley', 'Swansea', 0.0, 2.0, 'A', 2009), ('E1', 'EFL Championship', 'England', 'E1', datetime.date(2009, 1, 31), 'Burnley', 'Charlton', 2.0, 1.0, 'H', 2009), ('E1', 'EFL Championship', 'England', 'E1', datetime.date(2009, 2, 14), 'Burnley', 'Wolves', 1.0, 0.0, 'H', 2009), ('E1', 'EFL Championship', 'England', 'E1', datetime.date(2009, 2, 17), 'Burnley', 'Coventry', 1.0, 1.0, 'D', 2009), ('E1', 'EFL Championship', 'England', 'E1', datetime.date(2009, 2, 28), 'Burnley', 'Sheffield Weds', 2.0, 4.0, 'A', 2009), ('E1', 'EFL Championship', 'England', 'E1', datetime.date(2009, 3, 11), 'Burnley', 'Crystal Palace', 4.0, 2.0, 'H', 2009), ('E1', 'EFL Championship', 'England', 'E1', datetime.date(2009, 3, 14), 'Burnley', \"Nott'm Forest\", 5.0, 0.0, 'H', 2009), ('E1', 'EFL Championship', 'England', 'E1', datetime.date(2009, 4, 11), 'Burnley', 'QPR', 1.0, 0.0, 'H', 2009), ('E1', 'EFL Championship', 'England', 'E1', datetime.date(2009, 4, 20), 'Burnley', 'Sheffield United', 1.0, 0.0, 'H', 2009), ('E1', 'EFL Championship', 'England', 'E1', datetime.date(2009, 5, 3), 'Burnley', 'Bristol City', 4.0, 0.0, 'H', 2009), ('E1', 'EFL Championship', 'England', 'E1', datetime.date(2008, 8, 9), 'Cardiff', 'Southampton', 2.0, 1.0, 'H', 2009), ('E1', 'EFL Championship', 'England', 'E1', datetime.date(2008, 8, 23), 'Cardiff', 'Norwich', 2.0, 2.0, 'D', 2009), ('E1', 'EFL Championship', 'England', 'E1', datetime.date(2008, 9, 13), 'Cardiff', 'Bristol City', 0.0, 0.0, 'D', 2009), ('E1', 'EFL Championship', 'England', 'E1', datetime.date(2008, 9, 27), 'Cardiff', 'Birmingham', 1.0, 2.0, 'A', 2009), ('E1', 'EFL Championship', 'England', 'E1', datetime.date(2008, 9, 30), 'Cardiff', 'Coventry', 2.0, 1.0, 'H', 2009), ('E1', 'EFL Championship', 'England', 'E1', datetime.date(2008, 10, 18), 'Cardiff', 'Charlton', 2.0, 0.0, 'H', 2009), ('E1', 'EFL Championship', 'England', 'E1', datetime.date(2008, 10, 28), 'Cardiff', 'Blackpool', 2.0, 0.0, 'H', 2009), ('E1', 'EFL Championship', 'England', 'E1', datetime.date(2008, 11, 1), 'Cardiff', 'Wolves', 1.0, 2.0, 'A', 2009), ('E1', 'EFL Championship', 'England', 'E1', datetime.date(2008, 11, 15), 'Cardiff', 'Crystal Palace', 2.0, 1.0, 'H', 2009), ('E1', 'EFL Championship', 'England', 'E1', datetime.date(2008, 11, 25), 'Cardiff', 'Reading', 2.0, 2.0, 'D', 2009), ('E1', 'EFL Championship', 'England', 'E1', datetime.date(2008, 12, 6), 'Cardiff', 'Preston', 2.0, 0.0, 'H', 2009), ('E1', 'EFL Championship', 'England', 'E1', datetime.date(2008, 12, 20), 'Cardiff', 'Sheffield Weds', 2.0, 0.0, 'H', 2009), ('E1', 'EFL Championship', 'England', 'E1', datetime.date(2008, 12, 28), 'Cardiff', 'Plymouth', 1.0, 0.0, 'H', 2009), ('E1', 'EFL Championship', 'England', 'E1', datetime.date(2009, 1, 31), 'Cardiff', \"Nott'm Forest\", 2.0, 0.0, 'H', 2009), ('E1', 'EFL Championship', 'England', 'E1', datetime.date(2009, 2, 25), 'Cardiff', 'QPR', 0.0, 0.0, 'D', 2009), ('E1', 'EFL Championship', 'England', 'E1', datetime.date(2009, 3, 3), 'Cardiff', 'Barnsley', 3.0, 1.0, 'H', 2009), ('E1', 'EFL Championship', 'England', 'E1', datetime.date(2009, 3, 7), 'Cardiff', 'Doncaster', 3.0, 0.0, 'H', 2009), ('E1', 'EFL Championship', 'England', 'E1', datetime.date(2009, 3, 18), 'Cardiff', 'Watford', 2.0, 1.0, 'H', 2009), ('E1', 'EFL Championship', 'England', 'E1', datetime.date(2009, 3, 22), 'Cardiff', 'Sheffield United', 0.0, 3.0, 'A', 2009), ('E1', 'EFL Championship', 'England', 'E1', datetime.date(2009, 4, 5), 'Cardiff', 'Swansea', 2.0, 2.0, 'D', 2009), ('E1', 'EFL Championship', 'England', 'E1', datetime.date(2009, 4, 8), 'Cardiff', 'Derby', 4.0, 1.0, 'H', 2009), ('E1', 'EFL Championship', 'England', 'E1', datetime.date(2009, 4, 13), 'Cardiff', 'Burnley', 3.0, 1.0, 'H', 2009), ('E1', 'EFL Championship', 'England', 'E1', datetime.date(2009, 4, 25), 'Cardiff', 'Ipswich', 0.0, 3.0, 'A', 2009), ('E1', 'EFL Championship', 'England', 'E1', datetime.date(2008, 8, 9), 'Charlton', 'Swansea', 2.0, 0.0, 'H', 2009), ('E1', 'EFL Championship', 'England', 'E1', datetime.date(2008, 8, 23), 'Charlton', 'Reading', 4.0, 2.0, 'H', 2009), ('E1', 'EFL Championship', 'England', 'E1', datetime.date(2008, 9, 13), 'Charlton', 'Wolves', 1.0, 3.0, 'A', 2009), ('E1', 'EFL Championship', 'England', 'E1', datetime.date(2008, 9, 27), 'Charlton', 'Sheffield Weds', 1.0, 2.0, 'A', 2009), ('E1', 'EFL Championship', 'England', 'E1', datetime.date(2008, 10, 4), 'Charlton', 'Ipswich', 2.0, 1.0, 'H', 2009), ('E1', 'EFL Championship', 'England', 'E1', datetime.date(2008, 10, 21), 'Charlton', 'Bristol City', 0.0, 2.0, 'A', 2009), ('E1', 'EFL Championship', 'England', 'E1', datetime.date(2008, 10, 25), 'Charlton', 'Burnley', 1.0, 1.0, 'D', 2009), ('E1', 'EFL Championship', 'England', 'E1', datetime.date(2008, 11, 1), 'Charlton', 'Barnsley', 1.0, 3.0, 'A', 2009), ('E1', 'EFL Championship', 'England', 'E1', datetime.date(2008, 11, 22), 'Charlton', 'Sheffield United', 2.0, 5.0, 'A', 2009), ('E1', 'EFL Championship', 'England', 'E1', datetime.date(2008, 11, 29), 'Charlton', 'Southampton', 0.0, 0.0, 'D', 2009), ('E1', 'EFL Championship', 'England', 'E1', datetime.date(2008, 12, 9), 'Charlton', 'Coventry', 1.0, 2.0, 'A', 2009), ('E1', 'EFL Championship', 'England', 'E1', datetime.date(2008, 12, 15), 'Charlton', 'Derby', 2.0, 2.0, 'D', 2009), ('E1', 'EFL Championship', 'England', 'E1', datetime.date(2008, 12, 26), 'Charlton', 'QPR', 2.0, 2.0, 'D', 2009), ('E1', 'EFL Championship', 'England', 'E1', datetime.date(2009, 1, 10), 'Charlton', \"Nott'm Forest\", 0.0, 2.0, 'A', 2009), ('E1', 'EFL Championship', 'England', 'E1', datetime.date(2009, 1, 27), 'Charlton', 'Crystal Palace', 1.0, 0.0, 'H', 2009), ('E1', 'EFL Championship', 'England', 'E1', datetime.date(2009, 2, 14), 'Charlton', 'Plymouth', 2.0, 0.0, 'H', 2009), ('E1', 'EFL Championship', 'England', 'E1', datetime.date(2009, 3, 3), 'Charlton', 'Doncaster', 1.0, 2.0, 'A', 2009), ('E1', 'EFL Championship', 'England', 'E1', datetime.date(2009, 3, 7), 'Charlton', 'Watford', 2.0, 3.0, 'A', 2009), ('E1', 'EFL Championship', 'England', 'E1', datetime.date(2009, 3, 21), 'Charlton', 'Preston', 0.0, 0.0, 'D', 2009), ('E1', 'EFL Championship', 'England', 'E1', datetime.date(2009, 4, 11), 'Charlton', 'Birmingham', 0.0, 0.0, 'D', 2009), ('E1', 'EFL Championship', 'England', 'E1', datetime.date(2009, 4, 18), 'Charlton', 'Blackpool', 2.0, 2.0, 'D', 2009), ('E1', 'EFL Championship', 'England', 'E1', datetime.date(2009, 4, 21), 'Charlton', 'Cardiff', 2.0, 2.0, 'D', 2009), ('E1', 'EFL Championship', 'England', 'E1', datetime.date(2009, 5, 3), 'Charlton', 'Norwich', 4.0, 2.0, 'H', 2009), ('E1', 'EFL Championship', 'England', 'E1', datetime.date(2008, 8, 9), 'Coventry', 'Norwich', 2.0, 0.0, 'H', 2009), ('E1', 'EFL Championship', 'England', 'E1', datetime.date(2008, 8, 23), 'Coventry', 'Bristol City', 0.0, 3.0, 'A', 2009), ('E1', 'EFL Championship', 'England', 'E1', datetime.date(2008, 9, 13), 'Coventry', 'Preston', 0.0, 0.0, 'D', 2009), ('E1', 'EFL Championship', 'England', 'E1', datetime.date(2008, 9, 20), 'Coventry', 'QPR', 1.0, 0.0, 'H', 2009), ('E1', 'EFL Championship', 'England', 'E1', datetime.date(2008, 10, 4), 'Coventry', 'Southampton', 4.0, 1.0, 'H', 2009), ('E1', 'EFL Championship', 'England', 'E1', datetime.date(2008, 10, 21), 'Coventry', 'Burnley', 1.0, 3.0, 'A', 2009), ('E1', 'EFL Championship', 'England', 'E1', datetime.date(2008, 10, 25), 'Coventry', 'Derby', 1.0, 1.0, 'D', 2009), ('E1', 'EFL Championship', 'England', 'E1', datetime.date(2008, 11, 8), 'Coventry', 'Crystal Palace', 0.0, 2.0, 'A', 2009), ('E1', 'EFL Championship', 'England', 'E1', datetime.date(2008, 11, 15), 'Coventry', 'Plymouth', 0.0, 1.0, 'A', 2009), ('E1', 'EFL Championship', 'England', 'E1', datetime.date(2008, 11, 25), 'Coventry', 'Swansea', 1.0, 1.0, 'D', 2009), ('E1', 'EFL Championship', 'England', 'E1', datetime.date(2008, 12, 6), 'Coventry', \"Nott'm Forest\", 2.0, 2.0, 'D', 2009), ('E1', 'EFL Championship', 'England', 'E1', datetime.date(2008, 12, 20), 'Coventry', 'Ipswich', 2.0, 2.0, 'D', 2009), ('E1', 'EFL Championship', 'England', 'E1', datetime.date(2008, 12, 28), 'Coventry', 'Sheffield Weds', 2.0, 0.0, 'H', 2009), ('E1', 'EFL Championship', 'England', 'E1', datetime.date(2009, 1, 17), 'Coventry', 'Blackpool', 2.0, 1.0, 'H', 2009), ('E1', 'EFL Championship', 'England', 'E1', datetime.date(2009, 1, 28), 'Coventry', 'Cardiff', 0.0, 2.0, 'A', 2009), ('E1', 'EFL Championship', 'England', 'E1', datetime.date(2009, 2, 7), 'Coventry', 'Wolves', 2.0, 1.0, 'H', 2009), ('E1', 'EFL Championship', 'England', 'E1', datetime.date(2009, 2, 21), 'Coventry', 'Birmingham', 1.0, 0.0, 'H', 2009), ('E1', 'EFL Championship', 'England', 'E1', datetime.date(2009, 3, 4), 'Coventry', 'Sheffield United', 1.0, 2.0, 'A', 2009), ('E1', 'EFL Championship', 'England', 'E1', datetime.date(2009, 3, 21), 'Coventry', 'Doncaster', 1.0, 0.0, 'H', 2009), ('E1', 'EFL Championship', 'England', 'E1', datetime.date(2009, 4, 4), 'Coventry', 'Reading', 0.0, 0.0, 'D', 2009), ('E1', 'EFL Championship', 'England', 'E1', datetime.date(2009, 4, 13), 'Coventry', 'Charlton', 0.0, 0.0, 'D', 2009), ('E1', 'EFL Championship', 'England', 'E1', datetime.date(2009, 4, 21), 'Coventry', 'Barnsley', 1.0, 1.0, 'D', 2009), ('E1', 'EFL Championship', 'England', 'E1', datetime.date(2009, 4, 25), 'Coventry', 'Watford', 2.0, 3.0, 'A', 2009), ('E1', 'EFL Championship', 'England', 'E1', datetime.date(2008, 8, 9), 'Crystal Palace', 'Watford', 0.0, 0.0, 'D', 2009), ('E1', 'EFL Championship', 'England', 'E1', datetime.date(2008, 8, 23), 'Crystal Palace', 'Burnley', 0.0, 0.0, 'D', 2009), ('E1', 'EFL Championship', 'England', 'E1', datetime.date(2008, 9, 13), 'Crystal Palace', 'Swansea', 2.0, 0.0, 'H', 2009), ('E1', 'EFL Championship', 'England', 'E1', datetime.date(2008, 9, 20), 'Crystal Palace', 'Plymouth', 1.0, 2.0, 'A', 2009), ('E1', 'EFL Championship', 'England', 'E1', datetime.date(2008, 9, 30), 'Crystal Palace', 'Charlton', 1.0, 0.0, 'H', 2009), ('E1', 'EFL Championship', 'England', 'E1', datetime.date(2008, 10, 18), 'Crystal Palace', 'Barnsley', 3.0, 0.0, 'H', 2009), ('E1', 'EFL Championship', 'England', 'E1', datetime.date(2008, 10, 28), 'Crystal Palace', \"Nott'm Forest\", 1.0, 2.0, 'A', 2009), ('E1', 'EFL Championship', 'England', 'E1', datetime.date(2008, 11, 1), 'Crystal Palace', 'Sheffield Weds', 1.0, 1.0, 'D', 2009), ('E1', 'EFL Championship', 'England', 'E1', datetime.date(2008, 11, 22), 'Crystal Palace', 'Bristol City', 4.0, 2.0, 'H', 2009), ('E1', 'EFL Championship', 'England', 'E1', datetime.date(2008, 11, 29), 'Crystal Palace', 'QPR', 0.0, 0.0, 'D', 2009), ('E1', 'EFL Championship', 'England', 'E1', datetime.date(2008, 12, 8), 'Crystal Palace', 'Southampton', 3.0, 0.0, 'H', 2009), ('E1', 'EFL Championship', 'England', 'E1', datetime.date(2008, 12, 13), 'Crystal Palace', 'Doncaster', 2.0, 1.0, 'H', 2009), ('E1', 'EFL Championship', 'England', 'E1', datetime.date(2008, 12, 26), 'Crystal Palace', 'Norwich', 3.0, 1.0, 'H', 2009), ('E1', 'EFL Championship', 'England', 'E1', datetime.date(2009, 1, 17), 'Crystal Palace', 'Ipswich', 1.0, 4.0, 'A', 2009), ('E1', 'EFL Championship', 'England', 'E1', datetime.date(2009, 1, 31), 'Crystal Palace', 'Blackpool', 0.0, 1.0, 'A', 2009), ('E1', 'EFL Championship', 'England', 'E1', datetime.date(2009, 2, 24), 'Crystal Palace', 'Birmingham', 0.0, 0.0, 'D', 2009), ('E1', 'EFL Championship', 'England', 'E1', datetime.date(2009, 3, 3), 'Crystal Palace', 'Wolves', 0.0, 1.0, 'A', 2009), ('E1', 'EFL Championship', 'England', 'E1', datetime.date(2009, 3, 7), 'Crystal Palace', 'Preston', 2.0, 1.0, 'H', 2009), ('E1', 'EFL Championship', 'England', 'E1', datetime.date(2009, 3, 21), 'Crystal Palace', 'Reading', 0.0, 0.0, 'D', 2009), ('E1', 'EFL Championship', 'England', 'E1', datetime.date(2009, 4, 7), 'Crystal Palace', 'Coventry', 1.0, 1.0, 'D', 2009), ('E1', 'EFL Championship', 'England', 'E1', datetime.date(2009, 4, 11), 'Crystal Palace', 'Cardiff', 0.0, 2.0, 'A', 2009), ('E1', 'EFL Championship', 'England', 'E1', datetime.date(2009, 4, 18), 'Crystal Palace', 'Derby', 1.0, 0.0, 'H', 2009), ('E1', 'EFL Championship', 'England', 'E1', datetime.date(2009, 5, 3), 'Crystal Palace', 'Sheffield United', 0.0, 0.0, 'D', 2009), ('E1', 'EFL Championship', 'England', 'E1', datetime.date(2008, 8, 9), 'Derby', 'Doncaster', 0.0, 1.0, 'A', 2009), ('E1', 'EFL Championship', 'England', 'E1', datetime.date(2008, 8, 23), 'Derby', 'Southampton', 0.0, 1.0, 'A', 2009), ('E1', 'EFL Championship', 'England', 'E1', datetime.date(2008, 9, 13), 'Derby', 'Sheffield United', 2.0, 1.0, 'H', 2009), ('E1', 'EFL Championship', 'England', 'E1', datetime.date(2008, 9, 20), 'Derby', 'Cardiff', 1.0, 1.0, 'D', 2009), ('E1', 'EFL Championship', 'England', 'E1', datetime.date(2008, 9, 30), 'Derby', 'Birmingham', 1.0, 1.0, 'D', 2009), ('E1', 'EFL Championship', 'England', 'E1', datetime.date(2008, 10, 18), 'Derby', 'Plymouth', 2.0, 1.0, 'H', 2009), ('E1', 'EFL Championship', 'England', 'E1', datetime.date(2008, 10, 28), 'Derby', 'Norwich', 3.0, 1.0, 'H', 2009), ('E1', 'EFL Championship', 'England', 'E1', datetime.date(2008, 11, 2), 'Derby', \"Nott'm Forest\", 1.0, 1.0, 'D', 2009), ('E1', 'EFL Championship', 'England', 'E1', datetime.date(2008, 11, 15), 'Derby', 'Sheffield Weds', 3.0, 0.0, 'H', 2009), ('E1', 'EFL Championship', 'England', 'E1', datetime.date(2008, 11, 25), 'Derby', 'Preston', 2.0, 2.0, 'D', 2009), ('E1', 'EFL Championship', 'England', 'E1', datetime.date(2008, 12, 6), 'Derby', 'Crystal Palace', 1.0, 2.0, 'A', 2009), ('E1', 'EFL Championship', 'England', 'E1', datetime.date(2008, 12, 20), 'Derby', 'Watford', 1.0, 0.0, 'H', 2009), ('E1', 'EFL Championship', 'England', 'E1', datetime.date(2008, 12, 28), 'Derby', 'Ipswich', 0.0, 1.0, 'A', 2009), ('E1', 'EFL Championship', 'England', 'E1', datetime.date(2009, 1, 17), 'Derby', 'QPR', 0.0, 2.0, 'A', 2009), ('E1', 'EFL Championship', 'England', 'E1', datetime.date(2009, 1, 31), 'Derby', 'Coventry', 2.0, 1.0, 'H', 2009), ('E1', 'EFL Championship', 'England', 'E1', datetime.date(2009, 2, 18), 'Derby', 'Blackpool', 4.0, 1.0, 'H', 2009), ('E1', 'EFL Championship', 'England', 'E1', datetime.date(2009, 3, 3), 'Derby', 'Swansea', 2.0, 2.0, 'D', 2009), ('E1', 'EFL Championship', 'England', 'E1', datetime.date(2009, 3, 7), 'Derby', 'Bristol City', 2.0, 1.0, 'H', 2009), ('E1', 'EFL Championship', 'England', 'E1', datetime.date(2009, 3, 21), 'Derby', 'Barnsley', 0.0, 0.0, 'D', 2009), ('E1', 'EFL Championship', 'England', 'E1', datetime.date(2009, 4, 4), 'Derby', 'Burnley', 1.0, 1.0, 'D', 2009), ('E1', 'EFL Championship', 'England', 'E1', datetime.date(2009, 4, 13), 'Derby', 'Wolves', 2.0, 3.0, 'A', 2009), ('E1', 'EFL Championship', 'England', 'E1', datetime.date(2009, 4, 21), 'Derby', 'Reading', 0.0, 2.0, 'A', 2009), ('E1', 'EFL Championship', 'England', 'E1', datetime.date(2009, 4, 25), 'Derby', 'Charlton', 1.0, 0.0, 'H', 2009), ('E1', 'EFL Championship', 'England', 'E1', datetime.date(2008, 8, 16), 'Doncaster', 'Cardiff', 1.0, 1.0, 'D', 2009), ('E1', 'EFL Championship', 'England', 'E1', datetime.date(2008, 8, 30), 'Doncaster', 'Coventry', 1.0, 0.0, 'H', 2009), ('E1', 'EFL Championship', 'England', 'E1', datetime.date(2008, 9, 16), 'Doncaster', 'Charlton', 0.0, 1.0, 'A', 2009), ('E1', 'EFL Championship', 'England', 'E1', datetime.date(2008, 9, 27), 'Doncaster', 'Southampton', 0.0, 2.0, 'A', 2009), ('E1', 'EFL Championship', 'England', 'E1', datetime.date(2008, 9, 30), 'Doncaster', 'Sheffield United', 0.0, 2.0, 'A', 2009), ('E1', 'EFL Championship', 'England', 'E1', datetime.date(2008, 10, 18), 'Doncaster', 'Blackpool', 0.0, 0.0, 'D', 2009), ('E1', 'EFL Championship', 'England', 'E1', datetime.date(2008, 10, 28), 'Doncaster', 'Barnsley', 0.0, 1.0, 'A', 2009), ('E1', 'EFL Championship', 'England', 'E1', datetime.date(2008, 11, 1), 'Doncaster', 'Swansea', 0.0, 0.0, 'D', 2009), ('E1', 'EFL Championship', 'England', 'E1', datetime.date(2008, 11, 15), 'Doncaster', 'Ipswich', 1.0, 0.0, 'H', 2009), ('E1', 'EFL Championship', 'England', 'E1', datetime.date(2008, 11, 25), 'Doncaster', \"Nott'm Forest\", 0.0, 0.0, 'D', 2009), ('E1', 'EFL Championship', 'England', 'E1', datetime.date(2008, 12, 6), 'Doncaster', 'Plymouth', 1.0, 0.0, 'H', 2009), ('E1', 'EFL Championship', 'England', 'E1', datetime.date(2008, 12, 20), 'Doncaster', 'Wolves', 0.0, 1.0, 'A', 2009), ('E1', 'EFL Championship', 'England', 'E1', datetime.date(2008, 12, 28), 'Doncaster', 'Burnley', 2.0, 1.0, 'H', 2009), ('E1', 'EFL Championship', 'England', 'E1', datetime.date(2009, 1, 30), 'Doncaster', 'Norwich', 1.0, 1.0, 'D', 2009), ('E1', 'EFL Championship', 'England', 'E1', datetime.date(2009, 2, 14), 'Doncaster', 'Sheffield Weds', 1.0, 0.0, 'H', 2009), ('E1', 'EFL Championship', 'England', 'E1', datetime.date(2009, 2, 17), 'Doncaster', 'Bristol City', 1.0, 0.0, 'H', 2009), ('E1', 'EFL Championship', 'England', 'E1', datetime.date(2009, 2, 27), 'Doncaster', 'Derby', 2.0, 1.0, 'H', 2009), ('E1', 'EFL Championship', 'England', 'E1', datetime.date(2009, 3, 10), 'Doncaster', 'QPR', 2.0, 0.0, 'H', 2009), ('E1', 'EFL Championship', 'England', 'E1', datetime.date(2009, 3, 14), 'Doncaster', 'Birmingham', 0.0, 2.0, 'A', 2009), ('E1', 'EFL Championship', 'England', 'E1', datetime.date(2009, 3, 17), 'Doncaster', 'Reading', 0.0, 1.0, 'A', 2009), ('E1', 'EFL Championship', 'England', 'E1', datetime.date(2009, 4, 4), 'Doncaster', 'Watford', 1.0, 2.0, 'A', 2009), ('E1', 'EFL Championship', 'England', 'E1', datetime.date(2009, 4, 13), 'Doncaster', 'Preston', 0.0, 2.0, 'A', 2009), ('E1', 'EFL Championship', 'England', 'E1', datetime.date(2009, 4, 25), 'Doncaster', 'Crystal Palace', 2.0, 0.0, 'H', 2009), ('E1', 'EFL Championship', 'England', 'E1', datetime.date(2008, 8, 9), 'Ipswich', 'Preston', 1.0, 2.0, 'A', 2009), ('E1', 'EFL Championship', 'England', 'E1', datetime.date(2008, 8, 23), 'Ipswich', 'Wolves', 0.0, 2.0, 'A', 2009), ('E1', 'EFL Championship', 'England', 'E1', datetime.date(2008, 9, 13), 'Ipswich', 'Reading', 2.0, 0.0, 'H', 2009), ('E1', 'EFL Championship', 'England', 'E1', datetime.date(2008, 9, 27), 'Ipswich', 'Crystal Palace', 1.0, 1.0, 'D', 2009), ('E1', 'EFL Championship', 'England', 'E1', datetime.date(2008, 9, 30), 'Ipswich', 'Barnsley', 3.0, 0.0, 'H', 2009), ('E1', 'EFL Championship', 'England', 'E1', datetime.date(2008, 10, 18), 'Ipswich', 'Swansea', 2.0, 2.0, 'D', 2009), ('E1', 'EFL Championship', 'England', 'E1', datetime.date(2008, 10, 28), 'Ipswich', 'Charlton', 1.0, 1.0, 'D', 2009), ('E1', 'EFL Championship', 'England', 'E1', datetime.date(2008, 11, 1), 'Ipswich', 'QPR', 2.0, 0.0, 'H', 2009), ('E1', 'EFL Championship', 'England', 'E1', datetime.date(2008, 11, 22), 'Ipswich', 'Derby', 2.0, 0.0, 'H', 2009), ('E1', 'EFL Championship', 'England', 'E1', datetime.date(2008, 11, 29), 'Ipswich', 'Sheffield United', 1.0, 1.0, 'D', 2009), ('E1', 'EFL Championship', 'England', 'E1', datetime.date(2008, 12, 10), 'Ipswich', 'Bristol City', 3.0, 1.0, 'H', 2009), ('E1', 'EFL Championship', 'England', 'E1', datetime.date(2008, 12, 13), 'Ipswich', 'Cardiff', 1.0, 2.0, 'A', 2009), ('E1', 'EFL Championship', 'England', 'E1', datetime.date(2008, 12, 26), 'Ipswich', 'Birmingham', 0.0, 1.0, 'A', 2009), ('E1', 'EFL Championship', 'England', 'E1', datetime.date(2009, 1, 10), 'Ipswich', 'Sheffield Weds', 1.0, 1.0, 'D', 2009), ('E1', 'EFL Championship', 'England', 'E1', datetime.date(2009, 1, 31), 'Ipswich', 'Plymouth', 0.0, 0.0, 'D', 2009), ('E1', 'EFL Championship', 'England', 'E1', datetime.date(2009, 2, 14), 'Ipswich', 'Blackpool', 1.0, 1.0, 'D', 2009), ('E1', 'EFL Championship', 'England', 'E1', datetime.date(2009, 2, 18), 'Ipswich', \"Nott'm Forest\", 2.0, 1.0, 'H', 2009), ('E1', 'EFL Championship', 'England', 'E1', datetime.date(2009, 3, 3), 'Ipswich', 'Southampton', 0.0, 3.0, 'A', 2009), ('E1', 'EFL Championship', 'England', 'E1', datetime.date(2009, 3, 17), 'Ipswich', 'Burnley', 1.0, 1.0, 'D', 2009), ('E1', 'EFL Championship', 'England', 'E1', datetime.date(2009, 3, 21), 'Ipswich', 'Watford', 0.0, 0.0, 'D', 2009), ('E1', 'EFL Championship', 'England', 'E1', datetime.date(2009, 4, 11), 'Ipswich', 'Doncaster', 1.0, 3.0, 'A', 2009), ('E1', 'EFL Championship', 'England', 'E1', datetime.date(2009, 4, 19), 'Ipswich', 'Norwich', 3.0, 2.0, 'H', 2009), ('E1', 'EFL Championship', 'England', 'E1', datetime.date(2009, 5, 3), 'Ipswich', 'Coventry', 2.0, 1.0, 'H', 2009), ('E1', 'EFL Championship', 'England', 'E1', datetime.date(2008, 8, 16), 'Norwich', 'Blackpool', 1.0, 1.0, 'D', 2009), ('E1', 'EFL Championship', 'England', 'E1', datetime.date(2008, 8, 30), 'Norwich', 'Birmingham', 1.0, 1.0, 'D', 2009), ('E1', 'EFL Championship', 'England', 'E1', datetime.date(2008, 9, 17), 'Norwich', 'QPR', 0.0, 1.0, 'A', 2009), ('E1', 'EFL Championship', 'England', 'E1', datetime.date(2008, 9, 20), 'Norwich', 'Sheffield United', 1.0, 0.0, 'H', 2009), ('E1', 'EFL Championship', 'England', 'E1', datetime.date(2008, 10, 4), 'Norwich', 'Derby', 1.0, 2.0, 'A', 2009), ('E1', 'EFL Championship', 'England', 'E1', datetime.date(2008, 10, 21), 'Norwich', 'Wolves', 5.0, 2.0, 'H', 2009), ('E1', 'EFL Championship', 'England', 'E1', datetime.date(2008, 10, 25), 'Norwich', 'Doncaster', 2.0, 1.0, 'H', 2009), ('E1', 'EFL Championship', 'England', 'E1', datetime.date(2008, 11, 8), 'Norwich', 'Preston', 2.0, 2.0, 'D', 2009), ('E1', 'EFL Championship', 'England', 'E1', datetime.date(2008, 11, 15), 'Norwich', 'Swansea', 2.0, 3.0, 'A', 2009), ('E1', 'EFL Championship', 'England', 'E1', datetime.date(2008, 11, 25), 'Norwich', 'Crystal Palace', 1.0, 2.0, 'A', 2009), ('E1', 'EFL Championship', 'England', 'E1', datetime.date(2008, 12, 7), 'Norwich', 'Ipswich', 2.0, 0.0, 'H', 2009), ('E1', 'EFL Championship', 'England', 'E1', datetime.date(2008, 12, 20), 'Norwich', 'Charlton', 1.0, 0.0, 'H', 2009), ('E1', 'EFL Championship', 'England', 'E1', datetime.date(2008, 12, 28), 'Norwich', \"Nott'm Forest\", 2.0, 3.0, 'A', 2009), ('E1', 'EFL Championship', 'England', 'E1', datetime.date(2009, 1, 17), 'Norwich', 'Barnsley', 4.0, 0.0, 'H', 2009), ('E1', 'EFL Championship', 'England', 'E1', datetime.date(2009, 1, 27), 'Norwich', 'Southampton', 2.0, 2.0, 'D', 2009), ('E1', 'EFL Championship', 'England', 'E1', datetime.date(2009, 2, 7), 'Norwich', 'Bristol City', 1.0, 2.0, 'A', 2009), ('E1', 'EFL Championship', 'England', 'E1', datetime.date(2009, 2, 21), 'Norwich', 'Burnley', 1.0, 1.0, 'D', 2009), ('E1', 'EFL Championship', 'England', 'E1', datetime.date(2009, 2, 28), 'Norwich', 'Coventry', 1.0, 2.0, 'A', 2009), ('E1', 'EFL Championship', 'England', 'E1', datetime.date(2009, 3, 10), 'Norwich', 'Cardiff', 2.0, 0.0, 'H', 2009), ('E1', 'EFL Championship', 'England', 'E1', datetime.date(2009, 3, 14), 'Norwich', 'Plymouth', 1.0, 0.0, 'H', 2009), ('E1', 'EFL Championship', 'England', 'E1', datetime.date(2009, 4, 4), 'Norwich', 'Sheffield Weds', 0.0, 1.0, 'A', 2009), ('E1', 'EFL Championship', 'England', 'E1', datetime.date(2009, 4, 13), 'Norwich', 'Watford', 2.0, 0.0, 'H', 2009), ('E1', 'EFL Championship', 'England', 'E1', datetime.date(2009, 4, 27), 'Norwich', 'Reading', 0.0, 2.0, 'A', 2009), ('E1', 'EFL Championship', 'England', 'E1', datetime.date(2008, 8, 10), \"Nott'm Forest\", 'Reading', 0.0, 0.0, 'D', 2009), ('E1', 'EFL Championship', 'England', 'E1', datetime.date(2008, 8, 23), \"Nott'm Forest\", 'Watford', 3.0, 2.0, 'H', 2009), ('E1', 'EFL Championship', 'England', 'E1', datetime.date(2008, 9, 13), \"Nott'm Forest\", 'Burnley', 1.0, 2.0, 'A', 2009), ('E1', 'EFL Championship', 'England', 'E1', datetime.date(2008, 9, 20), \"Nott'm Forest\", 'Charlton', 0.0, 0.0, 'D', 2009), ('E1', 'EFL Championship', 'England', 'E1', datetime.date(2008, 10, 4), \"Nott'm Forest\", 'Crystal Palace', 0.0, 2.0, 'A', 2009), ('E1', 'EFL Championship', 'England', 'E1', datetime.date(2008, 10, 21), \"Nott'm Forest\", 'Ipswich', 1.0, 1.0, 'D', 2009), ('E1', 'EFL Championship', 'England', 'E1', datetime.date(2008, 10, 25), \"Nott'm Forest\", 'Cardiff', 0.0, 1.0, 'A', 2009), ('E1', 'EFL Championship', 'England', 'E1', datetime.date(2008, 11, 8), \"Nott'm Forest\", 'Birmingham', 1.0, 1.0, 'D', 2009), ('E1', 'EFL Championship', 'England', 'E1', datetime.date(2008, 11, 22), \"Nott'm Forest\", 'Norwich', 1.0, 2.0, 'A', 2009), ('E1', 'EFL Championship', 'England', 'E1', datetime.date(2008, 11, 29), \"Nott'm Forest\", 'Barnsley', 1.0, 0.0, 'H', 2009), ('E1', 'EFL Championship', 'England', 'E1', datetime.date(2008, 12, 9), \"Nott'm Forest\", 'Sheffield United', 0.0, 1.0, 'A', 2009), ('E1', 'EFL Championship', 'England', 'E1', datetime.date(2008, 12, 13), \"Nott'm Forest\", 'Blackpool', 0.0, 0.0, 'D', 2009), ('E1', 'EFL Championship', 'England', 'E1', datetime.date(2008, 12, 26), \"Nott'm Forest\", 'Doncaster', 2.0, 4.0, 'A', 2009), ('E1', 'EFL Championship', 'England', 'E1', datetime.date(2009, 1, 17), \"Nott'm Forest\", 'Plymouth', 2.0, 0.0, 'H', 2009), ('E1', 'EFL Championship', 'England', 'E1', datetime.date(2009, 1, 27), \"Nott'm Forest\", 'Sheffield Weds', 2.0, 1.0, 'H', 2009), ('E1', 'EFL Championship', 'England', 'E1', datetime.date(2009, 2, 7), \"Nott'm Forest\", 'QPR', 2.0, 2.0, 'D', 2009), ('E1', 'EFL Championship', 'England', 'E1', datetime.date(2009, 2, 21), \"Nott'm Forest\", 'Derby', 1.0, 3.0, 'A', 2009), ('E1', 'EFL Championship', 'England', 'E1', datetime.date(2009, 3, 3), \"Nott'm Forest\", 'Preston', 2.0, 1.0, 'H', 2009), ('E1', 'EFL Championship', 'England', 'E1', datetime.date(2009, 3, 7), \"Nott'm Forest\", 'Swansea', 1.0, 1.0, 'D', 2009), ('E1', 'EFL Championship', 'England', 'E1', datetime.date(2009, 3, 21), \"Nott'm Forest\", 'Wolves', 0.0, 1.0, 'A', 2009), ('E1', 'EFL Championship', 'England', 'E1', datetime.date(2009, 4, 11), \"Nott'm Forest\", 'Bristol City', 3.0, 2.0, 'H', 2009), ('E1', 'EFL Championship', 'England', 'E1', datetime.date(2009, 4, 18), \"Nott'm Forest\", 'Coventry', 1.0, 0.0, 'H', 2009), ('E1', 'EFL Championship', 'England', 'E1', datetime.date(2009, 5, 3), \"Nott'm Forest\", 'Southampton', 3.0, 1.0, 'H', 2009), ('E1', 'EFL Championship', 'England', 'E1', datetime.date(2008, 8, 9), 'Plymouth', 'Wolves', 2.0, 2.0, 'D', 2009), ('E1', 'EFL Championship', 'England', 'E1', datetime.date(2008, 8, 23), 'Plymouth', 'Swansea', 0.0, 1.0, 'A', 2009), ('E1', 'EFL Championship', 'England', 'E1', datetime.date(2008, 9, 13), 'Plymouth', 'Norwich', 1.0, 2.0, 'A', 2009), ('E1', 'EFL Championship', 'England', 'E1', datetime.date(2008, 9, 27), 'Plymouth', \"Nott'm Forest\", 1.0, 0.0, 'H', 2009), ('E1', 'EFL Championship', 'England', 'E1', datetime.date(2008, 10, 4), 'Plymouth', 'Sheffield Weds', 4.0, 0.0, 'H', 2009), ('E1', 'EFL Championship', 'England', 'E1', datetime.date(2008, 10, 21), 'Plymouth', 'Preston', 1.0, 0.0, 'H', 2009), ('E1', 'EFL Championship', 'England', 'E1', datetime.date(2008, 10, 25), 'Plymouth', 'Ipswich', 1.0, 3.0, 'A', 2009), ('E1', 'EFL Championship', 'England', 'E1', datetime.date(2008, 11, 8), 'Plymouth', 'Charlton', 2.0, 2.0, 'D', 2009), ('E1', 'EFL Championship', 'England', 'E1', datetime.date(2008, 11, 22), 'Plymouth', 'Cardiff', 2.0, 1.0, 'H', 2009), ('E1', 'EFL Championship', 'England', 'E1', datetime.date(2008, 11, 29), 'Plymouth', 'Blackpool', 1.0, 2.0, 'A', 2009), ('E1', 'EFL Championship', 'England', 'E1', datetime.date(2008, 12, 9), 'Plymouth', 'Birmingham', 0.0, 1.0, 'A', 2009), ('E1', 'EFL Championship', 'England', 'E1', datetime.date(2008, 12, 13), 'Plymouth', 'QPR', 1.0, 1.0, 'D', 2009), ('E1', 'EFL Championship', 'England', 'E1', datetime.date(2008, 12, 26), 'Plymouth', 'Southampton', 2.0, 0.0, 'H', 2009), ('E1', 'EFL Championship', 'England', 'E1', datetime.date(2009, 1, 27), 'Plymouth', 'Bristol City', 0.0, 2.0, 'A', 2009), ('E1', 'EFL Championship', 'England', 'E1', datetime.date(2009, 2, 7), 'Plymouth', 'Derby', 0.0, 3.0, 'A', 2009), ('E1', 'EFL Championship', 'England', 'E1', datetime.date(2009, 2, 17), 'Plymouth', 'Crystal Palace', 1.0, 3.0, 'A', 2009), ('E1', 'EFL Championship', 'England', 'E1', datetime.date(2009, 2, 21), 'Plymouth', 'Sheffield United', 2.0, 2.0, 'D', 2009), ('E1', 'EFL Championship', 'England', 'E1', datetime.date(2009, 3, 3), 'Plymouth', 'Watford', 2.0, 1.0, 'H', 2009), ('E1', 'EFL Championship', 'England', 'E1', datetime.date(2009, 3, 7), 'Plymouth', 'Reading', 2.0, 2.0, 'D', 2009), ('E1', 'EFL Championship', 'England', 'E1', datetime.date(2009, 3, 21), 'Plymouth', 'Burnley', 1.0, 2.0, 'A', 2009), ('E1', 'EFL Championship', 'England', 'E1', datetime.date(2009, 4, 11), 'Plymouth', 'Coventry', 4.0, 0.0, 'H', 2009), ('E1', 'EFL Championship', 'England', 'E1', datetime.date(2009, 4, 18), 'Plymouth', 'Doncaster', 0.0, 3.0, 'A', 2009), ('E1', 'EFL Championship', 'England', 'E1', datetime.date(2009, 5, 3), 'Plymouth', 'Barnsley', 1.0, 2.0, 'A', 2009), ('E1', 'EFL Championship', 'England', 'E1', datetime.date(2008, 8, 16), 'Preston', 'Crystal Palace', 2.0, 0.0, 'H', 2009), ('E1', 'EFL Championship', 'England', 'E1', datetime.date(2008, 8, 30), 'Preston', 'Charlton', 2.0, 1.0, 'H', 2009), ('E1', 'EFL Championship', 'England', 'E1', datetime.date(2008, 9, 16), 'Preston', \"Nott'm Forest\", 2.0, 1.0, 'H', 2009), ('E1', 'EFL Championship', 'England', 'E1', datetime.date(2008, 9, 20), 'Preston', 'Wolves', 1.0, 3.0, 'A', 2009), ('E1', 'EFL Championship', 'England', 'E1', datetime.date(2008, 9, 30), 'Preston', 'Swansea', 0.0, 2.0, 'A', 2009), ('E1', 'EFL Championship', 'England', 'E1', datetime.date(2008, 10, 18), 'Preston', 'Reading', 2.0, 1.0, 'H', 2009), ('E1', 'EFL Championship', 'England', 'E1', datetime.date(2008, 10, 28), 'Preston', 'Watford', 2.0, 0.0, 'H', 2009), ('E1', 'EFL Championship', 'England', 'E1', datetime.date(2008, 11, 1), 'Preston', 'Southampton', 2.0, 3.0, 'A', 2009), ('E1', 'EFL Championship', 'England', 'E1', datetime.date(2008, 11, 22), 'Preston', 'Barnsley', 2.0, 1.0, 'H', 2009), ('E1', 'EFL Championship', 'England', 'E1', datetime.date(2008, 11, 29), 'Preston', 'Bristol City', 2.0, 0.0, 'H', 2009), ('E1', 'EFL Championship', 'England', 'E1', datetime.date(2008, 12, 9), 'Preston', 'Doncaster', 1.0, 0.0, 'H', 2009), ('E1', 'EFL Championship', 'England', 'E1', datetime.date(2008, 12, 13), 'Preston', 'Birmingham', 1.0, 0.0, 'H', 2009), ('E1', 'EFL Championship', 'England', 'E1', datetime.date(2008, 12, 26), 'Preston', 'Derby', 2.0, 0.0, 'H', 2009), ('E1', 'EFL Championship', 'England', 'E1', datetime.date(2009, 1, 17), 'Preston', 'Burnley', 2.0, 1.0, 'H', 2009), ('E1', 'EFL Championship', 'England', 'E1', datetime.date(2009, 1, 31), 'Preston', 'Sheffield United', 0.0, 0.0, 'D', 2009), ('E1', 'EFL Championship', 'England', 'E1', datetime.date(2009, 2, 3), 'Preston', 'Plymouth', 1.0, 1.0, 'D', 2009), ('E1', 'EFL Championship', 'England', 'E1', datetime.date(2009, 2, 14), 'Preston', 'Norwich', 1.0, 0.0, 'H', 2009), ('E1', 'EFL Championship', 'England', 'E1', datetime.date(2009, 2, 28), 'Preston', 'Ipswich', 3.0, 2.0, 'H', 2009), ('E1', 'EFL Championship', 'England', 'E1', datetime.date(2009, 3, 10), 'Preston', 'Sheffield Weds', 1.0, 1.0, 'D', 2009), ('E1', 'EFL Championship', 'England', 'E1', datetime.date(2009, 3, 14), 'Preston', 'Coventry', 2.0, 1.0, 'H', 2009), ('E1', 'EFL Championship', 'England', 'E1', datetime.date(2009, 4, 11), 'Preston', 'Blackpool', 0.0, 1.0, 'A', 2009), ('E1', 'EFL Championship', 'England', 'E1', datetime.date(2009, 4, 18), 'Preston', 'Cardiff', 6.0, 0.0, 'H', 2009), ('E1', 'EFL Championship', 'England', 'E1', datetime.date(2009, 5, 3), 'Preston', 'QPR', 2.0, 1.0, 'H', 2009), ('E1', 'EFL Championship', 'England', 'E1', datetime.date(2008, 8, 9), 'QPR', 'Barnsley', 2.0, 1.0, 'H', 2009), ('E1', 'EFL Championship', 'England', 'E1', datetime.date(2008, 8, 23), 'QPR', 'Doncaster', 2.0, 0.0, 'H', 2009), ('E1', 'EFL Championship', 'England', 'E1', datetime.date(2008, 9, 14), 'QPR', 'Southampton', 4.0, 1.0, 'H', 2009), ('E1', 'EFL Championship', 'England', 'E1', datetime.date(2008, 9, 27), 'QPR', 'Derby', 0.0, 2.0, 'A', 2009), ('E1', 'EFL Championship', 'England', 'E1', datetime.date(2008, 9, 30), 'QPR', 'Blackpool', 1.0, 1.0, 'D', 2009), ('E1', 'EFL Championship', 'England', 'E1', datetime.date(2008, 10, 18), 'QPR', \"Nott'm Forest\", 2.0, 1.0, 'H', 2009), ('E1', 'EFL Championship', 'England', 'E1', datetime.date(2008, 10, 28), 'QPR', 'Birmingham', 1.0, 0.0, 'H', 2009), ('E1', 'EFL Championship', 'England', 'E1', datetime.date(2008, 11, 8), 'QPR', 'Cardiff', 1.0, 0.0, 'H', 2009), ('E1', 'EFL Championship', 'England', 'E1', datetime.date(2008, 11, 15), 'QPR', 'Burnley', 1.0, 2.0, 'A', 2009), ('E1', 'EFL Championship', 'England', 'E1', datetime.date(2008, 11, 25), 'QPR', 'Charlton', 2.0, 1.0, 'H', 2009), ('E1', 'EFL Championship', 'England', 'E1', datetime.date(2008, 12, 6), 'QPR', 'Wolves', 1.0, 0.0, 'H', 2009), ('E1', 'EFL Championship', 'England', 'E1', datetime.date(2008, 12, 20), 'QPR', 'Preston', 3.0, 2.0, 'H', 2009), ('E1', 'EFL Championship', 'England', 'E1', datetime.date(2008, 12, 28), 'QPR', 'Watford', 0.0, 0.0, 'D', 2009), ('E1', 'EFL Championship', 'England', 'E1', datetime.date(2009, 1, 10), 'QPR', 'Coventry', 1.0, 1.0, 'D', 2009), ('E1', 'EFL Championship', 'England', 'E1', datetime.date(2009, 1, 31), 'QPR', 'Reading', 0.0, 0.0, 'D', 2009), ('E1', 'EFL Championship', 'England', 'E1', datetime.date(2009, 2, 21), 'QPR', 'Ipswich', 1.0, 3.0, 'A', 2009), ('E1', 'EFL Championship', 'England', 'E1', datetime.date(2009, 3, 3), 'QPR', 'Norwich', 0.0, 1.0, 'A', 2009), ('E1', 'EFL Championship', 'England', 'E1', datetime.date(2009, 3, 7), 'QPR', 'Sheffield United', 0.0, 0.0, 'D', 2009), ('E1', 'EFL Championship', 'England', 'E1', datetime.date(2009, 3, 17), 'QPR', 'Swansea', 1.0, 0.0, 'H', 2009), ('E1', 'EFL Championship', 'England', 'E1', datetime.date(2009, 3, 21), 'QPR', 'Bristol City', 2.0, 1.0, 'H', 2009), ('E1', 'EFL Championship', 'England', 'E1', datetime.date(2009, 4, 4), 'QPR', 'Crystal Palace', 0.0, 0.0, 'D', 2009), ('E1', 'EFL Championship', 'England', 'E1', datetime.date(2009, 4, 13), 'QPR', 'Sheffield Weds', 3.0, 2.0, 'H', 2009), ('E1', 'EFL Championship', 'England', 'E1', datetime.date(2009, 4, 25), 'QPR', 'Plymouth', 0.0, 0.0, 'D', 2009), ('E1', 'EFL Championship', 'England', 'E1', datetime.date(2008, 8, 16), 'Reading', 'Plymouth', 2.0, 0.0, 'H', 2009), ('E1', 'EFL Championship', 'England', 'E1', datetime.date(2008, 8, 30), 'Reading', 'Crystal Palace', 4.0, 2.0, 'H', 2009), ('E1', 'EFL Championship', 'England', 'E1', datetime.date(2008, 9, 16), 'Reading', 'Sheffield Weds', 6.0, 0.0, 'H', 2009), ('E1', 'EFL Championship', 'England', 'E1', datetime.date(2008, 9, 27), 'Reading', 'Swansea', 4.0, 0.0, 'H', 2009), ('E1', 'EFL Championship', 'England', 'E1', datetime.date(2008, 10, 4), 'Reading', 'Burnley', 3.0, 1.0, 'H', 2009), ('E1', 'EFL Championship', 'England', 'E1', datetime.date(2008, 10, 21), 'Reading', 'Doncaster', 2.0, 1.0, 'H', 2009), ('E1', 'EFL Championship', 'England', 'E1', datetime.date(2008, 10, 25), 'Reading', 'QPR', 0.0, 0.0, 'D', 2009), ('E1', 'EFL Championship', 'England', 'E1', datetime.date(2008, 11, 8), 'Reading', 'Derby', 3.0, 0.0, 'H', 2009), ('E1', 'EFL Championship', 'England', 'E1', datetime.date(2008, 11, 22), 'Reading', 'Southampton', 1.0, 2.0, 'A', 2009), ('E1', 'EFL Championship', 'England', 'E1', datetime.date(2008, 12, 1), 'Reading', 'Coventry', 3.0, 1.0, 'H', 2009), ('E1', 'EFL Championship', 'England', 'E1', datetime.date(2008, 12, 9), 'Reading', 'Blackpool', 1.0, 0.0, 'H', 2009), ('E1', 'EFL Championship', 'England', 'E1', datetime.date(2008, 12, 13), 'Reading', 'Norwich', 2.0, 0.0, 'H', 2009), ('E1', 'EFL Championship', 'England', 'E1', datetime.date(2008, 12, 26), 'Reading', 'Cardiff', 1.0, 1.0, 'D', 2009), ('E1', 'EFL Championship', 'England', 'E1', datetime.date(2009, 1, 9), 'Reading', 'Watford', 4.0, 0.0, 'H', 2009), ('E1', 'EFL Championship', 'England', 'E1', datetime.date(2009, 1, 27), 'Reading', 'Wolves', 1.0, 0.0, 'H', 2009), ('E1', 'EFL Championship', 'England', 'E1', datetime.date(2009, 2, 7), 'Reading', 'Preston', 0.0, 0.0, 'D', 2009), ('E1', 'EFL Championship', 'England', 'E1', datetime.date(2009, 2, 21), 'Reading', 'Bristol City', 0.0, 2.0, 'A', 2009), ('E1', 'EFL Championship', 'England', 'E1', datetime.date(2009, 2, 28), 'Reading', \"Nott'm Forest\", 0.0, 1.0, 'A', 2009), ('E1', 'EFL Championship', 'England', 'E1', datetime.date(2009, 3, 10), 'Reading', 'Charlton', 2.0, 2.0, 'D', 2009), ('E1', 'EFL Championship', 'England', 'E1', datetime.date(2009, 3, 14), 'Reading', 'Ipswich', 0.0, 1.0, 'A', 2009), ('E1', 'EFL Championship', 'England', 'E1', datetime.date(2009, 4, 10), 'Reading', 'Sheffield United', 0.0, 1.0, 'A', 2009), ('E1', 'EFL Championship', 'England', 'E1', datetime.date(2009, 4, 18), 'Reading', 'Barnsley', 0.0, 0.0, 'D', 2009), ('E1', 'EFL Championship', 'England', 'E1', datetime.date(2009, 5, 3), 'Reading', 'Birmingham', 1.0, 2.0, 'A', 2009), ('E1', 'EFL Championship', 'England', 'E1', datetime.date(2008, 8, 16), 'Sheffield United', 'QPR', 3.0, 0.0, 'H', 2009), ('E1', 'EFL Championship', 'England', 'E1', datetime.date(2008, 8, 30), 'Sheffield United', 'Cardiff', 0.0, 0.0, 'D', 2009), ('E1', 'EFL Championship', 'England', 'E1', datetime.date(2008, 9, 16), 'Sheffield United', 'Coventry', 1.0, 1.0, 'D', 2009), ('E1', 'EFL Championship', 'England', 'E1', datetime.date(2008, 9, 27), 'Sheffield United', 'Watford', 2.0, 1.0, 'H', 2009), ('E1', 'EFL Championship', 'England', 'E1', datetime.date(2008, 10, 4), 'Sheffield United', 'Bristol City', 3.0, 0.0, 'H', 2009), ('E1', 'EFL Championship', 'England', 'E1', datetime.date(2008, 10, 21), 'Sheffield United', 'Southampton', 0.0, 0.0, 'D', 2009), ('E1', 'EFL Championship', 'England', 'E1', datetime.date(2008, 10, 25), 'Sheffield United', 'Preston', 1.0, 0.0, 'H', 2009), ('E1', 'EFL Championship', 'England', 'E1', datetime.date(2008, 11, 1), 'Sheffield United', 'Plymouth', 2.0, 0.0, 'H', 2009), ('E1', 'EFL Championship', 'England', 'E1', datetime.date(2008, 11, 15), 'Sheffield United', 'Reading', 0.0, 2.0, 'A', 2009), ('E1', 'EFL Championship', 'England', 'E1', datetime.date(2008, 11, 25), 'Sheffield United', 'Wolves', 1.0, 3.0, 'A', 2009), ('E1', 'EFL Championship', 'England', 'E1', datetime.date(2008, 12, 6), 'Sheffield United', 'Burnley', 2.0, 3.0, 'A', 2009), ('E1', 'EFL Championship', 'England', 'E1', datetime.date(2008, 12, 20), 'Sheffield United', 'Crystal Palace', 2.0, 2.0, 'D', 2009), ('E1', 'EFL Championship', 'England', 'E1', datetime.date(2008, 12, 28), 'Sheffield United', 'Charlton', 3.0, 1.0, 'H', 2009), ('E1', 'EFL Championship', 'England', 'E1', datetime.date(2009, 1, 10), 'Sheffield United', 'Norwich', 1.0, 0.0, 'H', 2009), ('E1', 'EFL Championship', 'England', 'E1', datetime.date(2009, 1, 27), 'Sheffield United', 'Doncaster', 0.0, 1.0, 'A', 2009), ('E1', 'EFL Championship', 'England', 'E1', datetime.date(2009, 2, 7), 'Sheffield United', 'Sheffield Weds', 1.0, 2.0, 'A', 2009), ('E1', 'EFL Championship', 'England', 'E1', datetime.date(2009, 3, 1), 'Sheffield United', 'Birmingham', 2.0, 1.0, 'H', 2009), ('E1', 'EFL Championship', 'England', 'E1', datetime.date(2009, 3, 10), 'Sheffield United', 'Blackpool', 2.0, 2.0, 'D', 2009), ('E1', 'EFL Championship', 'England', 'E1', datetime.date(2009, 3, 14), 'Sheffield United', 'Derby', 4.0, 2.0, 'H', 2009), ('E1', 'EFL Championship', 'England', 'E1', datetime.date(2009, 4, 4), 'Sheffield United', 'Ipswich', 2.0, 0.0, 'H', 2009), ('E1', 'EFL Championship', 'England', 'E1', datetime.date(2009, 4, 7), 'Sheffield United', 'Barnsley', 2.0, 1.0, 'H', 2009), ('E1', 'EFL Championship', 'England', 'E1', datetime.date(2009, 4, 13), 'Sheffield United', \"Nott'm Forest\", 0.0, 0.0, 'D', 2009), ('E1', 'EFL Championship', 'England', 'E1', datetime.date(2009, 4, 25), 'Sheffield United', 'Swansea', 1.0, 0.0, 'H', 2009), ('E1', 'EFL Championship', 'England', 'E1', datetime.date(2008, 8, 9), 'Sheffield Weds', 'Burnley', 4.0, 1.0, 'H', 2009), ('E1', 'EFL Championship', 'England', 'E1', datetime.date(2008, 8, 23), 'Sheffield Weds', 'Preston', 1.0, 1.0, 'D', 2009), ('E1', 'EFL Championship', 'England', 'E1', datetime.date(2008, 9, 13), 'Sheffield Weds', 'Watford', 2.0, 0.0, 'H', 2009), ('E1', 'EFL Championship', 'England', 'E1', datetime.date(2008, 9, 20), 'Sheffield Weds', 'Ipswich', 0.0, 0.0, 'D', 2009), ('E1', 'EFL Championship', 'England', 'E1', datetime.date(2008, 9, 30), 'Sheffield Weds', \"Nott'm Forest\", 1.0, 0.0, 'H', 2009), ('E1', 'EFL Championship', 'England', 'E1', datetime.date(2008, 10, 19), 'Sheffield Weds', 'Sheffield United', 1.0, 0.0, 'H', 2009), ('E1', 'EFL Championship', 'England', 'E1', datetime.date(2008, 10, 28), 'Sheffield Weds', 'Plymouth', 0.0, 1.0, 'A', 2009), ('E1', 'EFL Championship', 'England', 'E1', datetime.date(2008, 11, 8), 'Sheffield Weds', 'Doncaster', 1.0, 0.0, 'H', 2009), ('E1', 'EFL Championship', 'England', 'E1', datetime.date(2008, 11, 22), 'Sheffield Weds', 'Coventry', 0.0, 1.0, 'A', 2009), ('E1', 'EFL Championship', 'England', 'E1', datetime.date(2008, 11, 29), 'Sheffield Weds', 'Norwich', 3.0, 2.0, 'H', 2009), ('E1', 'EFL Championship', 'England', 'E1', datetime.date(2008, 12, 9), 'Sheffield Weds', 'QPR', 1.0, 0.0, 'H', 2009), ('E1', 'EFL Championship', 'England', 'E1', datetime.date(2008, 12, 13), 'Sheffield Weds', 'Bristol City', 0.0, 0.0, 'D', 2009), ('E1', 'EFL Championship', 'England', 'E1', datetime.date(2008, 12, 26), 'Sheffield Weds', 'Blackpool', 1.0, 1.0, 'D', 2009), ('E1', 'EFL Championship', 'England', 'E1', datetime.date(2009, 1, 17), 'Sheffield Weds', 'Charlton', 4.0, 1.0, 'H', 2009), ('E1', 'EFL Championship', 'England', 'E1', datetime.date(2009, 1, 31), 'Sheffield Weds', 'Birmingham', 1.0, 1.0, 'D', 2009), ('E1', 'EFL Championship', 'England', 'E1', datetime.date(2009, 2, 17), 'Sheffield Weds', 'Barnsley', 0.0, 1.0, 'A', 2009), ('E1', 'EFL Championship', 'England', 'E1', datetime.date(2009, 2, 21), 'Sheffield Weds', 'Crystal Palace', 2.0, 0.0, 'H', 2009), ('E1', 'EFL Championship', 'England', 'E1', datetime.date(2009, 3, 3), 'Sheffield Weds', 'Reading', 1.0, 2.0, 'A', 2009), ('E1', 'EFL Championship', 'England', 'E1', datetime.date(2009, 3, 7), 'Sheffield Weds', 'Wolves', 0.0, 1.0, 'A', 2009), ('E1', 'EFL Championship', 'England', 'E1', datetime.date(2009, 3, 21), 'Sheffield Weds', 'Swansea', 0.0, 0.0, 'D', 2009), ('E1', 'EFL Championship', 'England', 'E1', datetime.date(2009, 4, 11), 'Sheffield Weds', 'Derby', 0.0, 1.0, 'A', 2009), ('E1', 'EFL Championship', 'England', 'E1', datetime.date(2009, 4, 18), 'Sheffield Weds', 'Southampton', 2.0, 0.0, 'H', 2009), ('E1', 'EFL Championship', 'England', 'E1', datetime.date(2009, 5, 3), 'Sheffield Weds', 'Cardiff', 1.0, 0.0, 'H', 2009), ('E1', 'EFL Championship', 'England', 'E1', datetime.date(2008, 8, 16), 'Southampton', 'Birmingham', 1.0, 2.0, 'A', 2009), ('E1', 'EFL Championship', 'England', 'E1', datetime.date(2008, 8, 30), 'Southampton', 'Blackpool', 0.0, 1.0, 'A', 2009), ('E1', 'EFL Championship', 'England', 'E1', datetime.date(2008, 9, 17), 'Southampton', 'Ipswich', 2.0, 2.0, 'D', 2009), ('E1', 'EFL Championship', 'England', 'E1', datetime.date(2008, 9, 20), 'Southampton', 'Barnsley', 0.0, 0.0, 'D', 2009), ('E1', 'EFL Championship', 'England', 'E1', datetime.date(2008, 9, 30), 'Southampton', 'Norwich', 2.0, 0.0, 'H', 2009), ('E1', 'EFL Championship', 'England', 'E1', datetime.date(2008, 10, 18), 'Southampton', 'Watford', 0.0, 3.0, 'A', 2009), ('E1', 'EFL Championship', 'England', 'E1', datetime.date(2008, 10, 28), 'Southampton', 'Coventry', 1.0, 1.0, 'D', 2009), ('E1', 'EFL Championship', 'England', 'E1', datetime.date(2008, 11, 8), 'Southampton', 'Bristol City', 0.0, 1.0, 'A', 2009), ('E1', 'EFL Championship', 'England', 'E1', datetime.date(2008, 11, 15), 'Southampton', 'Wolves', 1.0, 2.0, 'A', 2009), ('E1', 'EFL Championship', 'England', 'E1', datetime.date(2008, 11, 25), 'Southampton', 'Plymouth', 0.0, 0.0, 'D', 2009), ('E1', 'EFL Championship', 'England', 'E1', datetime.date(2008, 12, 6), 'Southampton', 'Sheffield Weds', 1.0, 1.0, 'D', 2009), ('E1', 'EFL Championship', 'England', 'E1', datetime.date(2008, 12, 20), 'Southampton', \"Nott'm Forest\", 0.0, 2.0, 'A', 2009), ('E1', 'EFL Championship', 'England', 'E1', datetime.date(2008, 12, 28), 'Southampton', 'Reading', 1.0, 1.0, 'D', 2009), ('E1', 'EFL Championship', 'England', 'E1', datetime.date(2009, 1, 17), 'Southampton', 'Doncaster', 1.0, 2.0, 'A', 2009), ('E1', 'EFL Championship', 'England', 'E1', datetime.date(2009, 1, 31), 'Southampton', 'Swansea', 2.0, 2.0, 'D', 2009), ('E1', 'EFL Championship', 'England', 'E1', datetime.date(2009, 2, 3), 'Southampton', 'Sheffield United', 1.0, 2.0, 'A', 2009), ('E1', 'EFL Championship', 'England', 'E1', datetime.date(2009, 2, 21), 'Southampton', 'Preston', 3.0, 1.0, 'H', 2009), ('E1', 'EFL Championship', 'England', 'E1', datetime.date(2009, 2, 28), 'Southampton', 'Cardiff', 1.0, 0.0, 'H', 2009), ('E1', 'EFL Championship', 'England', 'E1', datetime.date(2009, 3, 10), 'Southampton', 'Derby', 1.0, 1.0, 'D', 2009), ('E1', 'EFL Championship', 'England', 'E1', datetime.date(2009, 3, 14), 'Southampton', 'QPR', 0.0, 0.0, 'D', 2009), ('E1', 'EFL Championship', 'England', 'E1', datetime.date(2009, 4, 4), 'Southampton', 'Charlton', 2.0, 3.0, 'A', 2009), ('E1', 'EFL Championship', 'England', 'E1', datetime.date(2009, 4, 13), 'Southampton', 'Crystal Palace', 1.0, 0.0, 'H', 2009), ('E1', 'EFL Championship', 'England', 'E1', datetime.date(2009, 4, 25), 'Southampton', 'Burnley', 2.0, 2.0, 'D', 2009), ('E1', 'EFL Championship', 'England', 'E1', datetime.date(2008, 8, 16), 'Swansea', \"Nott'm Forest\", 3.0, 1.0, 'H', 2009), ('E1', 'EFL Championship', 'England', 'E1', datetime.date(2008, 8, 30), 'Swansea', 'Sheffield Weds', 1.0, 1.0, 'D', 2009), ('E1', 'EFL Championship', 'England', 'E1', datetime.date(2008, 9, 16), 'Swansea', 'Derby', 1.0, 1.0, 'D', 2009), ('E1', 'EFL Championship', 'England', 'E1', datetime.date(2008, 9, 20), 'Swansea', 'Burnley', 1.0, 1.0, 'D', 2009), ('E1', 'EFL Championship', 'England', 'E1', datetime.date(2008, 10, 4), 'Swansea', 'Wolves', 3.0, 1.0, 'H', 2009), ('E1', 'EFL Championship', 'England', 'E1', datetime.date(2008, 10, 21), 'Swansea', 'QPR', 0.0, 0.0, 'D', 2009), ('E1', 'EFL Championship', 'England', 'E1', datetime.date(2008, 10, 25), 'Swansea', 'Southampton', 3.0, 0.0, 'H', 2009), ('E1', 'EFL Championship', 'England', 'E1', datetime.date(2008, 11, 9), 'Swansea', 'Watford', 3.0, 1.0, 'H', 2009), ('E1', 'EFL Championship', 'England', 'E1', datetime.date(2008, 11, 21), 'Swansea', 'Birmingham', 2.0, 3.0, 'A', 2009), ('E1', 'EFL Championship', 'England', 'E1', datetime.date(2008, 11, 30), 'Swansea', 'Cardiff', 2.0, 2.0, 'D', 2009), ('E1', 'EFL Championship', 'England', 'E1', datetime.date(2008, 12, 9), 'Swansea', 'Barnsley', 2.0, 2.0, 'D', 2009), ('E1', 'EFL Championship', 'England', 'E1', datetime.date(2008, 12, 13), 'Swansea', 'Sheffield United', 1.0, 1.0, 'D', 2009), ('E1', 'EFL Championship', 'England', 'E1', datetime.date(2008, 12, 26), 'Swansea', 'Coventry', 0.0, 0.0, 'D', 2009), ('E1', 'EFL Championship', 'England', 'E1', datetime.date(2009, 1, 17), 'Swansea', 'Reading', 2.0, 0.0, 'H', 2009), ('E1', 'EFL Championship', 'England', 'E1', datetime.date(2009, 1, 27), 'Swansea', 'Preston', 4.0, 1.0, 'H', 2009), ('E1', 'EFL Championship', 'England', 'E1', datetime.date(2009, 2, 7), 'Swansea', 'Ipswich', 3.0, 0.0, 'H', 2009), ('E1', 'EFL Championship', 'England', 'E1', datetime.date(2009, 2, 21), 'Swansea', 'Doncaster', 3.0, 1.0, 'H', 2009), ('E1', 'EFL Championship', 'England', 'E1', datetime.date(2009, 2, 28), 'Swansea', 'Charlton', 1.0, 1.0, 'D', 2009), ('E1', 'EFL Championship', 'England', 'E1', datetime.date(2009, 3, 10), 'Swansea', 'Plymouth', 1.0, 0.0, 'H', 2009), ('E1', 'EFL Championship', 'England', 'E1', datetime.date(2009, 3, 14), 'Swansea', 'Crystal Palace', 1.0, 3.0, 'A', 2009), ('E1', 'EFL Championship', 'England', 'E1', datetime.date(2009, 4, 11), 'Swansea', 'Norwich', 2.0, 1.0, 'H', 2009), ('E1', 'EFL Championship', 'England', 'E1', datetime.date(2009, 4, 18), 'Swansea', 'Bristol City', 1.0, 0.0, 'H', 2009), ('E1', 'EFL Championship', 'England', 'E1', datetime.date(2009, 5, 3), 'Swansea', 'Blackpool', 0.0, 1.0, 'A', 2009), ('E1', 'EFL Championship', 'England', 'E1', datetime.date(2008, 8, 16), 'Watford', 'Charlton', 1.0, 0.0, 'H', 2009), ('E1', 'EFL Championship', 'England', 'E1', datetime.date(2008, 8, 30), 'Watford', 'Ipswich', 2.0, 1.0, 'H', 2009), ('E1', 'EFL Championship', 'England', 'E1', datetime.date(2008, 9, 16), 'Watford', 'Plymouth', 1.0, 2.0, 'A', 2009), ('E1', 'EFL Championship', 'England', 'E1', datetime.date(2008, 9, 20), 'Watford', 'Reading', 2.0, 2.0, 'D', 2009), ('E1', 'EFL Championship', 'England', 'E1', datetime.date(2008, 10, 4), 'Watford', 'Preston', 2.0, 1.0, 'H', 2009), ('E1', 'EFL Championship', 'England', 'E1', datetime.date(2008, 10, 21), 'Watford', 'Cardiff', 2.0, 2.0, 'D', 2009), ('E1', 'EFL Championship', 'England', 'E1', datetime.date(2008, 10, 25), 'Watford', 'Wolves', 2.0, 3.0, 'A', 2009), ('E1', 'EFL Championship', 'England', 'E1', datetime.date(2008, 11, 1), 'Watford', 'Blackpool', 3.0, 4.0, 'A', 2009), ('E1', 'EFL Championship', 'England', 'E1', datetime.date(2008, 11, 22), 'Watford', 'QPR', 3.0, 0.0, 'H', 2009), ('E1', 'EFL Championship', 'England', 'E1', datetime.date(2008, 11, 29), 'Watford', 'Doncaster', 1.0, 1.0, 'D', 2009), ('E1', 'EFL Championship', 'England', 'E1', datetime.date(2008, 12, 10), 'Watford', 'Norwich', 2.0, 1.0, 'H', 2009), ('E1', 'EFL Championship', 'England', 'E1', datetime.date(2008, 12, 13), 'Watford', 'Coventry', 2.0, 1.0, 'H', 2009), ('E1', 'EFL Championship', 'England', 'E1', datetime.date(2008, 12, 26), 'Watford', 'Bristol City', 2.0, 4.0, 'A', 2009), ('E1', 'EFL Championship', 'England', 'E1', datetime.date(2009, 1, 17), 'Watford', 'Sheffield United', 0.0, 2.0, 'A', 2009), ('E1', 'EFL Championship', 'England', 'E1', datetime.date(2009, 1, 27), 'Watford', 'Burnley', 3.0, 0.0, 'H', 2009), ('E1', 'EFL Championship', 'England', 'E1', datetime.date(2009, 2, 17), 'Watford', 'Swansea', 2.0, 0.0, 'H', 2009), ('E1', 'EFL Championship', 'England', 'E1', datetime.date(2009, 2, 28), 'Watford', 'Crystal Palace', 2.0, 0.0, 'H', 2009), ('E1', 'EFL Championship', 'England', 'E1', datetime.date(2009, 3, 10), 'Watford', \"Nott'm Forest\", 2.0, 1.0, 'H', 2009), ('E1', 'EFL Championship', 'England', 'E1', datetime.date(2009, 3, 14), 'Watford', 'Sheffield Weds', 2.0, 2.0, 'D', 2009), ('E1', 'EFL Championship', 'England', 'E1', datetime.date(2009, 4, 7), 'Watford', 'Southampton', 2.0, 2.0, 'D', 2009), ('E1', 'EFL Championship', 'England', 'E1', datetime.date(2009, 4, 11), 'Watford', 'Barnsley', 1.0, 1.0, 'D', 2009), ('E1', 'EFL Championship', 'England', 'E1', datetime.date(2009, 4, 18), 'Watford', 'Birmingham', 0.0, 1.0, 'A', 2009), ('E1', 'EFL Championship', 'England', 'E1', datetime.date(2009, 5, 3), 'Watford', 'Derby', 3.0, 1.0, 'H', 2009), ('E1', 'EFL Championship', 'England', 'E1', datetime.date(2008, 8, 16), 'Wolves', 'Sheffield Weds', 4.0, 1.0, 'H', 2009), ('E1', 'EFL Championship', 'England', 'E1', datetime.date(2008, 8, 30), 'Wolves', \"Nott'm Forest\", 5.0, 1.0, 'H', 2009), ('E1', 'EFL Championship', 'England', 'E1', datetime.date(2008, 9, 16), 'Wolves', 'Crystal Palace', 2.0, 1.0, 'H', 2009), ('E1', 'EFL Championship', 'England', 'E1', datetime.date(2008, 9, 27), 'Wolves', 'Bristol City', 2.0, 0.0, 'H', 2009), ('E1', 'EFL Championship', 'England', 'E1', datetime.date(2008, 9, 30), 'Wolves', 'Reading', 0.0, 3.0, 'A', 2009), ('E1', 'EFL Championship', 'England', 'E1', datetime.date(2008, 10, 18), 'Wolves', 'Coventry', 2.0, 1.0, 'H', 2009), ('E1', 'EFL Championship', 'England', 'E1', datetime.date(2008, 10, 28), 'Wolves', 'Swansea', 2.0, 1.0, 'H', 2009), ('E1', 'EFL Championship', 'England', 'E1', datetime.date(2008, 11, 8), 'Wolves', 'Burnley', 2.0, 0.0, 'H', 2009), ('E1', 'EFL Championship', 'England', 'E1', datetime.date(2008, 11, 22), 'Wolves', 'Blackpool', 2.0, 0.0, 'H', 2009), ('E1', 'EFL Championship', 'England', 'E1', datetime.date(2008, 11, 29), 'Wolves', 'Birmingham', 1.0, 1.0, 'D', 2009), ('E1', 'EFL Championship', 'England', 'E1', datetime.date(2008, 12, 9), 'Wolves', 'Derby', 3.0, 0.0, 'H', 2009), ('E1', 'EFL Championship', 'England', 'E1', datetime.date(2008, 12, 13), 'Wolves', 'Barnsley', 2.0, 0.0, 'H', 2009), ('E1', 'EFL Championship', 'England', 'E1', datetime.date(2008, 12, 26), 'Wolves', 'Sheffield United', 1.0, 1.0, 'D', 2009), ('E1', 'EFL Championship', 'England', 'E1', datetime.date(2009, 1, 10), 'Wolves', 'Preston', 1.0, 3.0, 'A', 2009), ('E1', 'EFL Championship', 'England', 'E1', datetime.date(2009, 1, 31), 'Wolves', 'Watford', 3.0, 1.0, 'H', 2009), ('E1', 'EFL Championship', 'England', 'E1', datetime.date(2009, 2, 3), 'Wolves', 'Norwich', 3.0, 3.0, 'D', 2009), ('E1', 'EFL Championship', 'England', 'E1', datetime.date(2009, 2, 22), 'Wolves', 'Cardiff', 2.0, 2.0, 'D', 2009), ('E1', 'EFL Championship', 'England', 'E1', datetime.date(2009, 2, 28), 'Wolves', 'Plymouth', 0.0, 1.0, 'A', 2009), ('E1', 'EFL Championship', 'England', 'E1', datetime.date(2009, 3, 10), 'Wolves', 'Ipswich', 0.0, 0.0, 'D', 2009), ('E1', 'EFL Championship', 'England', 'E1', datetime.date(2009, 3, 14), 'Wolves', 'Charlton', 2.0, 1.0, 'H', 2009), ('E1', 'EFL Championship', 'England', 'E1', datetime.date(2009, 4, 10), 'Wolves', 'Southampton', 3.0, 0.0, 'H', 2009), ('E1', 'EFL Championship', 'England', 'E1', datetime.date(2009, 4, 18), 'Wolves', 'QPR', 1.0, 0.0, 'H', 2009), ('E1', 'EFL Championship', 'England', 'E1', datetime.date(2009, 5, 3), 'Wolves', 'Doncaster', 1.0, 0.0, 'H', 2009)]\n"
     ]
    }
   ],
   "source": [
    "output = conn.execute(query)\n",
    "results = output.fetchall()\n",
    "print(results)"
   ]
  },
  {
   "cell_type": "code",
   "execution_count": 201,
   "id": "20fc6956-f8db-4bc3-bfdc-2614906ac124",
   "metadata": {},
   "outputs": [
    {
     "data": {
      "text/html": [
       "<div>\n",
       "<style scoped>\n",
       "    .dataframe tbody tr th:only-of-type {\n",
       "        vertical-align: middle;\n",
       "    }\n",
       "\n",
       "    .dataframe tbody tr th {\n",
       "        vertical-align: top;\n",
       "    }\n",
       "\n",
       "    .dataframe thead th {\n",
       "        text-align: right;\n",
       "    }\n",
       "</style>\n",
       "<table border=\"1\" class=\"dataframe\">\n",
       "  <thead>\n",
       "    <tr style=\"text-align: right;\">\n",
       "      <th></th>\n",
       "      <th>division</th>\n",
       "      <th>name</th>\n",
       "      <th>country</th>\n",
       "      <th>Div</th>\n",
       "      <th>Date</th>\n",
       "      <th>HomeTeam</th>\n",
       "      <th>AwayTeam</th>\n",
       "      <th>FTHG</th>\n",
       "      <th>FTAG</th>\n",
       "      <th>FTR</th>\n",
       "      <th>season</th>\n",
       "    </tr>\n",
       "  </thead>\n",
       "  <tbody>\n",
       "    <tr>\n",
       "      <th>0</th>\n",
       "      <td>E1</td>\n",
       "      <td>EFL Championship</td>\n",
       "      <td>England</td>\n",
       "      <td>E1</td>\n",
       "      <td>2008-08-16</td>\n",
       "      <td>Barnsley</td>\n",
       "      <td>Coventry</td>\n",
       "      <td>1.0</td>\n",
       "      <td>2.0</td>\n",
       "      <td>A</td>\n",
       "      <td>2009</td>\n",
       "    </tr>\n",
       "    <tr>\n",
       "      <th>1</th>\n",
       "      <td>E1</td>\n",
       "      <td>EFL Championship</td>\n",
       "      <td>England</td>\n",
       "      <td>E1</td>\n",
       "      <td>2008-08-30</td>\n",
       "      <td>Barnsley</td>\n",
       "      <td>Derby</td>\n",
       "      <td>2.0</td>\n",
       "      <td>0.0</td>\n",
       "      <td>H</td>\n",
       "      <td>2009</td>\n",
       "    </tr>\n",
       "    <tr>\n",
       "      <th>2</th>\n",
       "      <td>E1</td>\n",
       "      <td>EFL Championship</td>\n",
       "      <td>England</td>\n",
       "      <td>E1</td>\n",
       "      <td>2008-09-16</td>\n",
       "      <td>Barnsley</td>\n",
       "      <td>Cardiff</td>\n",
       "      <td>0.0</td>\n",
       "      <td>1.0</td>\n",
       "      <td>A</td>\n",
       "      <td>2009</td>\n",
       "    </tr>\n",
       "    <tr>\n",
       "      <th>3</th>\n",
       "      <td>E1</td>\n",
       "      <td>EFL Championship</td>\n",
       "      <td>England</td>\n",
       "      <td>E1</td>\n",
       "      <td>2008-09-27</td>\n",
       "      <td>Barnsley</td>\n",
       "      <td>Norwich</td>\n",
       "      <td>0.0</td>\n",
       "      <td>0.0</td>\n",
       "      <td>D</td>\n",
       "      <td>2009</td>\n",
       "    </tr>\n",
       "    <tr>\n",
       "      <th>4</th>\n",
       "      <td>E1</td>\n",
       "      <td>EFL Championship</td>\n",
       "      <td>England</td>\n",
       "      <td>E1</td>\n",
       "      <td>2008-10-04</td>\n",
       "      <td>Barnsley</td>\n",
       "      <td>Doncaster</td>\n",
       "      <td>4.0</td>\n",
       "      <td>1.0</td>\n",
       "      <td>H</td>\n",
       "      <td>2009</td>\n",
       "    </tr>\n",
       "    <tr>\n",
       "      <th>...</th>\n",
       "      <td>...</td>\n",
       "      <td>...</td>\n",
       "      <td>...</td>\n",
       "      <td>...</td>\n",
       "      <td>...</td>\n",
       "      <td>...</td>\n",
       "      <td>...</td>\n",
       "      <td>...</td>\n",
       "      <td>...</td>\n",
       "      <td>...</td>\n",
       "      <td>...</td>\n",
       "    </tr>\n",
       "    <tr>\n",
       "      <th>547</th>\n",
       "      <td>E1</td>\n",
       "      <td>EFL Championship</td>\n",
       "      <td>England</td>\n",
       "      <td>E1</td>\n",
       "      <td>2009-03-10</td>\n",
       "      <td>Wolves</td>\n",
       "      <td>Ipswich</td>\n",
       "      <td>0.0</td>\n",
       "      <td>0.0</td>\n",
       "      <td>D</td>\n",
       "      <td>2009</td>\n",
       "    </tr>\n",
       "    <tr>\n",
       "      <th>548</th>\n",
       "      <td>E1</td>\n",
       "      <td>EFL Championship</td>\n",
       "      <td>England</td>\n",
       "      <td>E1</td>\n",
       "      <td>2009-03-14</td>\n",
       "      <td>Wolves</td>\n",
       "      <td>Charlton</td>\n",
       "      <td>2.0</td>\n",
       "      <td>1.0</td>\n",
       "      <td>H</td>\n",
       "      <td>2009</td>\n",
       "    </tr>\n",
       "    <tr>\n",
       "      <th>549</th>\n",
       "      <td>E1</td>\n",
       "      <td>EFL Championship</td>\n",
       "      <td>England</td>\n",
       "      <td>E1</td>\n",
       "      <td>2009-04-10</td>\n",
       "      <td>Wolves</td>\n",
       "      <td>Southampton</td>\n",
       "      <td>3.0</td>\n",
       "      <td>0.0</td>\n",
       "      <td>H</td>\n",
       "      <td>2009</td>\n",
       "    </tr>\n",
       "    <tr>\n",
       "      <th>550</th>\n",
       "      <td>E1</td>\n",
       "      <td>EFL Championship</td>\n",
       "      <td>England</td>\n",
       "      <td>E1</td>\n",
       "      <td>2009-04-18</td>\n",
       "      <td>Wolves</td>\n",
       "      <td>QPR</td>\n",
       "      <td>1.0</td>\n",
       "      <td>0.0</td>\n",
       "      <td>H</td>\n",
       "      <td>2009</td>\n",
       "    </tr>\n",
       "    <tr>\n",
       "      <th>551</th>\n",
       "      <td>E1</td>\n",
       "      <td>EFL Championship</td>\n",
       "      <td>England</td>\n",
       "      <td>E1</td>\n",
       "      <td>2009-05-03</td>\n",
       "      <td>Wolves</td>\n",
       "      <td>Doncaster</td>\n",
       "      <td>1.0</td>\n",
       "      <td>0.0</td>\n",
       "      <td>H</td>\n",
       "      <td>2009</td>\n",
       "    </tr>\n",
       "  </tbody>\n",
       "</table>\n",
       "<p>552 rows × 11 columns</p>\n",
       "</div>"
      ],
      "text/plain": [
       "    division              name  country Div        Date  HomeTeam  \\\n",
       "0         E1  EFL Championship  England  E1  2008-08-16  Barnsley   \n",
       "1         E1  EFL Championship  England  E1  2008-08-30  Barnsley   \n",
       "2         E1  EFL Championship  England  E1  2008-09-16  Barnsley   \n",
       "3         E1  EFL Championship  England  E1  2008-09-27  Barnsley   \n",
       "4         E1  EFL Championship  England  E1  2008-10-04  Barnsley   \n",
       "..       ...               ...      ...  ..         ...       ...   \n",
       "547       E1  EFL Championship  England  E1  2009-03-10    Wolves   \n",
       "548       E1  EFL Championship  England  E1  2009-03-14    Wolves   \n",
       "549       E1  EFL Championship  England  E1  2009-04-10    Wolves   \n",
       "550       E1  EFL Championship  England  E1  2009-04-18    Wolves   \n",
       "551       E1  EFL Championship  England  E1  2009-05-03    Wolves   \n",
       "\n",
       "        AwayTeam  FTHG  FTAG FTR  season  \n",
       "0       Coventry   1.0   2.0   A    2009  \n",
       "1          Derby   2.0   0.0   H    2009  \n",
       "2        Cardiff   0.0   1.0   A    2009  \n",
       "3        Norwich   0.0   0.0   D    2009  \n",
       "4      Doncaster   4.0   1.0   H    2009  \n",
       "..           ...   ...   ...  ..     ...  \n",
       "547      Ipswich   0.0   0.0   D    2009  \n",
       "548     Charlton   2.0   1.0   H    2009  \n",
       "549  Southampton   3.0   0.0   H    2009  \n",
       "550          QPR   1.0   0.0   H    2009  \n",
       "551    Doncaster   1.0   0.0   H    2009  \n",
       "\n",
       "[552 rows x 11 columns]"
      ]
     },
     "execution_count": 201,
     "metadata": {},
     "output_type": "execute_result"
    }
   ],
   "source": [
    "data = pd.DataFrame(results)\n",
    "data.columns = output.keys()\n",
    "data"
   ]
  },
  {
   "cell_type": "code",
   "execution_count": 205,
   "id": "cb4e71f8-f0ab-4279-9cfd-71452dedf8d4",
   "metadata": {},
   "outputs": [
    {
     "data": {
      "image/png": "[encoded data removed]",
      "text/plain": [
       "<Figure size 1500x600 with 1 Axes>"
      ]
     },
     "metadata": {},
     "output_type": "display_data"
    }
   ],
   "source": [
    "import seaborn as sns\n",
    "import matplotlib.pyplot as plt\n",
    "sns.set_theme(style=\"darkgrid\")\n",
    "\n",
    "f, ax = plt.subplots(figsize=(15, 6))\n",
    "plt.xticks(rotation=90)\n",
    "sns.set_color_codes(\"pastel\")\n",
    "sns.barplot(x=\"HomeTeam\", y=\"FTHG\", data=data,\n",
    "            label=\"Home Team Goals\", color=\"b\")\n",
    "\n",
    "sns.barplot(x=\"HomeTeam\", y=\"FTAG\", data=data,\n",
    "            label=\"Away Team Goals\", color=\"r\")\n",
    "ax.legend(ncol=2, loc=\"upper left\", frameon=True)\n",
    "ax.set(ylabel=\"\", xlabel=\"\")\n",
    "sns.despine(left=True, bottom=True)"
   ]
  },
  {
   "cell_type": "code",
   "execution_count": 225,
   "id": "876596d0-ca3b-47a7-b196-981c6656828d",
   "metadata": {},
   "outputs": [],
   "source": [
    "query = text(\"SELECT * FROM matchs WHERE HomeTeam LIKE 'Norwich'\")\n",
    "output = conn.execute(query)\n",
    "results = output.fetchall()\n",
    "\n",
    "data = pd.DataFrame(results)\n",
    "data.columns = output.keys()"
   ]
  },
  {
   "cell_type": "code",
   "execution_count": 227,
   "id": "9a1137ac-3a37-4fab-b204-0ba93fb1ff32",
   "metadata": {},
   "outputs": [],
   "source": [
    "data.to_csv(\"SQL_result.csv\",index=False)"
   ]
  },
  {
   "cell_type": "code",
   "execution_count": 231,
   "id": "c3a0c797-f3f7-49e4-bc8a-43ea10f8aeb5",
   "metadata": {},
   "outputs": [
    {
     "data": {
      "text/plain": [
       "['divisions', 'matchs']"
      ]
     },
     "execution_count": 231,
     "metadata": {},
     "output_type": "execute_result"
    }
   ],
   "source": [
    "engine = db.create_engine(\"sqlite:///D:/_DA+DS/03_Python/sqlalchemy-etl-project/european_database2.sqlite\")\n",
    "conn = engine.connect()\n",
    "metadata = db.MetaData()\n",
    "inspector = sqlalchemy.inspect(engine)\n",
    "table_names = inspector.get_table_names()\n",
    "table_names"
   ]
  },
  {
   "cell_type": "code",
   "execution_count": 245,
   "id": "96947165-2e40-4018-8aef-b0c9319a4643",
   "metadata": {},
   "outputs": [
    {
     "data": {
      "text/html": [
       "<div>\n",
       "<style scoped>\n",
       "    .dataframe tbody tr th:only-of-type {\n",
       "        vertical-align: middle;\n",
       "    }\n",
       "\n",
       "    .dataframe tbody tr th {\n",
       "        vertical-align: top;\n",
       "    }\n",
       "\n",
       "    .dataframe thead th {\n",
       "        text-align: right;\n",
       "    }\n",
       "</style>\n",
       "<table border=\"1\" class=\"dataframe\">\n",
       "  <thead>\n",
       "    <tr style=\"text-align: right;\">\n",
       "      <th></th>\n",
       "      <th>Div</th>\n",
       "      <th>Date</th>\n",
       "      <th>HomeTeam</th>\n",
       "      <th>AwayTeam</th>\n",
       "      <th>FTHG</th>\n",
       "      <th>FTAG</th>\n",
       "      <th>FTR</th>\n",
       "      <th>season</th>\n",
       "    </tr>\n",
       "  </thead>\n",
       "  <tbody>\n",
       "    <tr>\n",
       "      <th>0</th>\n",
       "      <td>E1</td>\n",
       "      <td>2020-09-19</td>\n",
       "      <td>Norwich</td>\n",
       "      <td>Preston</td>\n",
       "      <td>2.0</td>\n",
       "      <td>2.0</td>\n",
       "      <td>D</td>\n",
       "      <td>2021</td>\n",
       "    </tr>\n",
       "    <tr>\n",
       "      <th>1</th>\n",
       "      <td>E1</td>\n",
       "      <td>2020-10-03</td>\n",
       "      <td>Norwich</td>\n",
       "      <td>Derby</td>\n",
       "      <td>0.0</td>\n",
       "      <td>1.0</td>\n",
       "      <td>A</td>\n",
       "      <td>2021</td>\n",
       "    </tr>\n",
       "    <tr>\n",
       "      <th>2</th>\n",
       "      <td>E1</td>\n",
       "      <td>2020-10-20</td>\n",
       "      <td>Norwich</td>\n",
       "      <td>Birmingham</td>\n",
       "      <td>1.0</td>\n",
       "      <td>0.0</td>\n",
       "      <td>H</td>\n",
       "      <td>2021</td>\n",
       "    </tr>\n",
       "    <tr>\n",
       "      <th>3</th>\n",
       "      <td>E1</td>\n",
       "      <td>2020-10-24</td>\n",
       "      <td>Norwich</td>\n",
       "      <td>Wycombe</td>\n",
       "      <td>2.0</td>\n",
       "      <td>1.0</td>\n",
       "      <td>H</td>\n",
       "      <td>2021</td>\n",
       "    </tr>\n",
       "    <tr>\n",
       "      <th>4</th>\n",
       "      <td>E1</td>\n",
       "      <td>2020-11-03</td>\n",
       "      <td>Norwich</td>\n",
       "      <td>Millwall</td>\n",
       "      <td>0.0</td>\n",
       "      <td>0.0</td>\n",
       "      <td>D</td>\n",
       "      <td>2021</td>\n",
       "    </tr>\n",
       "  </tbody>\n",
       "</table>\n",
       "</div>"
      ],
      "text/plain": [
       "  Div        Date HomeTeam    AwayTeam  FTHG  FTAG FTR  season\n",
       "0  E1  2020-09-19  Norwich     Preston   2.0   2.0   D    2021\n",
       "1  E1  2020-10-03  Norwich       Derby   0.0   1.0   A    2021\n",
       "2  E1  2020-10-20  Norwich  Birmingham   1.0   0.0   H    2021\n",
       "3  E1  2020-10-24  Norwich     Wycombe   2.0   1.0   H    2021\n",
       "4  E1  2020-11-03  Norwich    Millwall   0.0   0.0   D    2021"
      ]
     },
     "execution_count": 245,
     "metadata": {},
     "output_type": "execute_result"
    }
   ],
   "source": [
    "df = pd.read_csv('SQL_result.csv')\n",
    "data_top = data.head()   \n",
    "# display \n",
    "data_top "
   ]
  },
  {
   "cell_type": "code",
   "execution_count": 247,
   "id": "be7bb47c-67c3-4a5f-8fc8-337b4b659ee7",
   "metadata": {},
   "outputs": [
    {
     "data": {
      "text/plain": [
       "348"
      ]
     },
     "execution_count": 247,
     "metadata": {},
     "output_type": "execute_result"
    }
   ],
   "source": [
    "df.to_sql(con=engine, name=\"SQL_Results\", if_exists='replace', index=False)"
   ]
  },
  {
   "cell_type": "code",
   "execution_count": 251,
   "id": "bd02a5de-05a3-48fc-ad11-064d5328039a",
   "metadata": {},
   "outputs": [],
   "source": [
    "conn = engine.connect()\n",
    "metadata = db.MetaData()\n",
    "data = db.Table('SQL_Results', metadata, autoload_with=engine)"
   ]
  },
  {
   "cell_type": "code",
   "execution_count": 265,
   "id": "3a97214e-aa49-4e9c-8c7e-04db028c6458",
   "metadata": {},
   "outputs": [
    {
     "name": "stdout",
     "output_type": "stream",
     "text": [
      "('E1', '2020-09-19', 'Norwich', 'Preston', 2.0, 2.0, 'D', 2021)\n",
      "('E1', '2020-10-03', 'Norwich', 'Derby', 0.0, 1.0, 'A', 2021)\n",
      "('E1', '2020-10-20', 'Norwich', 'Birmingham', 1.0, 0.0, 'H', 2021)\n",
      "('E1', '2020-10-24', 'Norwich', 'Wycombe', 2.0, 1.0, 'H', 2021)\n",
      "('E1', '2020-11-03', 'Norwich', 'Millwall', 0.0, 0.0, 'D', 2021)\n",
      "('E1', '2020-11-07', 'Norwich', 'Swansea', 1.0, 0.0, 'H', 2021)\n",
      "('E1', '2020-11-28', 'Norwich', 'Coventry', 1.0, 1.0, 'D', 2021)\n",
      "('E1', '2020-12-05', 'Norwich', 'Sheffield Weds', 2.0, 1.0, 'H', 2021)\n",
      "('E1', '2020-12-09', 'Norwich', \"Nott'm Forest\", 2.0, 1.0, 'H', 2021)\n",
      "('E1', '2020-12-19', 'Norwich', 'Cardiff', 2.0, 0.0, 'H', 2021)\n"
     ]
    }
   ],
   "source": [
    "query = data.select()\n",
    "exe = conn.execute(query)\n",
    "result = exe.fetchmany(10)\n",
    "for r in result:\n",
    "    print(r)"
   ]
  },
  {
   "cell_type": "code",
   "execution_count": 269,
   "id": "9ed4af8f-6366-4c7b-a04a-951cf94c9d23",
   "metadata": {},
   "outputs": [
    {
     "data": {
      "text/plain": [
       "['SQL_Results', 'divisions', 'matchs']"
      ]
     },
     "execution_count": 269,
     "metadata": {},
     "output_type": "execute_result"
    }
   ],
   "source": [
    "inspector = sqlalchemy.inspect(engine)\n",
    "table_names = inspector.get_table_names()\n",
    "table_names"
   ]
  },
  {
   "cell_type": "code",
   "execution_count": 273,
   "id": "0617ff35-c848-401d-86d3-61011922dd50",
   "metadata": {},
   "outputs": [],
   "source": [
    "conn.close()"
   ]
  },
  {
   "cell_type": "code",
   "execution_count": null,
   "id": "12c718c7-3436-4849-b022-8a02b0b8248e",
   "metadata": {},
   "outputs": [],
   "source": []
  }
 ],
 "metadata": {
  "kernelspec": {
   "display_name": "Python 3 (ipykernel)",
   "language": "python",
   "name": "python3"
  },
  "language_info": {
   "codemirror_mode": {
    "name": "ipython",
    "version": 3
   },
   "file_extension": ".py",
   "mimetype": "text/x-python",
   "name": "python",
   "nbconvert_exporter": "python",
   "pygments_lexer": "ipython3",
   "version": "3.12.4"
  }
 },
 "nbformat": 4,
 "nbformat_minor": 5
}
